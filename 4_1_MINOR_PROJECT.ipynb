{
  "nbformat": 4,
  "nbformat_minor": 0,
  "metadata": {
    "colab": {
      "provenance": [],
      "collapsed_sections": []
    },
    "kernelspec": {
      "name": "python3",
      "display_name": "Python 3"
    },
    "language_info": {
      "name": "python"
    }
  },
  "cells": [
    {
      "cell_type": "code",
      "execution_count": 1,
      "metadata": {
        "id": "moC0LgK-bkIR"
      },
      "outputs": [],
      "source": [
        "import numpy as np\n",
        "import pandas as pd\n",
        "import seaborn as sns\n",
        "import nltk\n",
        "from nltk.corpus import stopwords\n",
        "from nltk.stem.porter import PorterStemmer\n",
        "from sklearn.feature_extraction.text import CountVectorizer\n",
        "from sklearn.model_selection import train_test_split\n",
        "from sklearn.naive_bayes import MultinomialNB\n",
        "from sklearn.metrics  import confusion_matrix,accuracy_score\n",
        "from sklearn.feature_extraction.text import TfidfVectorizer\n",
        "import sklearn"
      ]
    },
    {
      "cell_type": "code",
      "source": [
        "dataset = pd.read_csv('IFND_3.csv',encoding='ISO 8859-1')"
      ],
      "metadata": {
        "id": "XSEansbCbvtV"
      },
      "execution_count": 2,
      "outputs": []
    },
    {
      "cell_type": "code",
      "source": [
        "dataset.head()"
      ],
      "metadata": {
        "id": "AfDYEFnKdYun",
        "colab": {
          "base_uri": "https://localhost:8080/",
          "height": 206
        },
        "outputId": "8d6271bc-f743-4d08-b2dc-6557b772a8a4"
      },
      "execution_count": 3,
      "outputs": [
        {
          "output_type": "execute_result",
          "data": {
            "text/plain": [
              "   id                                          Statement  \\\n",
              "0   2  WHO praises India's Aarogya Setu app, says it ...   \n",
              "1   3  In Delhi, Deputy US Secretary of State Stephen...   \n",
              "2   4  LAC tensions: China's strategy behind delibera...   \n",
              "3   5  India has signed 250 documents on Space cooper...   \n",
              "4   6  Tamil Nadu chief minister's mother passes away...   \n",
              "\n",
              "                                               Image       Web  Category  \\\n",
              "0  https://cdn.dnaindia.com/sites/default/files/s...  DNAINDIA  COVID-19   \n",
              "1  https://cdn.dnaindia.com/sites/default/files/s...  DNAINDIA  VIOLENCE   \n",
              "2  https://cdn.dnaindia.com/sites/default/files/s...  DNAINDIA    TERROR   \n",
              "3  https://cdn.dnaindia.com/sites/default/files/s...  DNAINDIA  COVID-19   \n",
              "4  https://cdn.dnaindia.com/sites/default/files/s...  DNAINDIA  ELECTION   \n",
              "\n",
              "     Date Label  \n",
              "0  Oct-20  TRUE  \n",
              "1  Oct-20  TRUE  \n",
              "2  Oct-20  TRUE  \n",
              "3  Oct-20  TRUE  \n",
              "4  Oct-20  TRUE  "
            ],
            "text/html": [
              "\n",
              "  <div id=\"df-64ff8e37-e5ff-4e54-8604-0aabcc9d714d\">\n",
              "    <div class=\"colab-df-container\">\n",
              "      <div>\n",
              "<style scoped>\n",
              "    .dataframe tbody tr th:only-of-type {\n",
              "        vertical-align: middle;\n",
              "    }\n",
              "\n",
              "    .dataframe tbody tr th {\n",
              "        vertical-align: top;\n",
              "    }\n",
              "\n",
              "    .dataframe thead th {\n",
              "        text-align: right;\n",
              "    }\n",
              "</style>\n",
              "<table border=\"1\" class=\"dataframe\">\n",
              "  <thead>\n",
              "    <tr style=\"text-align: right;\">\n",
              "      <th></th>\n",
              "      <th>id</th>\n",
              "      <th>Statement</th>\n",
              "      <th>Image</th>\n",
              "      <th>Web</th>\n",
              "      <th>Category</th>\n",
              "      <th>Date</th>\n",
              "      <th>Label</th>\n",
              "    </tr>\n",
              "  </thead>\n",
              "  <tbody>\n",
              "    <tr>\n",
              "      <th>0</th>\n",
              "      <td>2</td>\n",
              "      <td>WHO praises India's Aarogya Setu app, says it ...</td>\n",
              "      <td>https://cdn.dnaindia.com/sites/default/files/s...</td>\n",
              "      <td>DNAINDIA</td>\n",
              "      <td>COVID-19</td>\n",
              "      <td>Oct-20</td>\n",
              "      <td>TRUE</td>\n",
              "    </tr>\n",
              "    <tr>\n",
              "      <th>1</th>\n",
              "      <td>3</td>\n",
              "      <td>In Delhi, Deputy US Secretary of State Stephen...</td>\n",
              "      <td>https://cdn.dnaindia.com/sites/default/files/s...</td>\n",
              "      <td>DNAINDIA</td>\n",
              "      <td>VIOLENCE</td>\n",
              "      <td>Oct-20</td>\n",
              "      <td>TRUE</td>\n",
              "    </tr>\n",
              "    <tr>\n",
              "      <th>2</th>\n",
              "      <td>4</td>\n",
              "      <td>LAC tensions: China's strategy behind delibera...</td>\n",
              "      <td>https://cdn.dnaindia.com/sites/default/files/s...</td>\n",
              "      <td>DNAINDIA</td>\n",
              "      <td>TERROR</td>\n",
              "      <td>Oct-20</td>\n",
              "      <td>TRUE</td>\n",
              "    </tr>\n",
              "    <tr>\n",
              "      <th>3</th>\n",
              "      <td>5</td>\n",
              "      <td>India has signed 250 documents on Space cooper...</td>\n",
              "      <td>https://cdn.dnaindia.com/sites/default/files/s...</td>\n",
              "      <td>DNAINDIA</td>\n",
              "      <td>COVID-19</td>\n",
              "      <td>Oct-20</td>\n",
              "      <td>TRUE</td>\n",
              "    </tr>\n",
              "    <tr>\n",
              "      <th>4</th>\n",
              "      <td>6</td>\n",
              "      <td>Tamil Nadu chief minister's mother passes away...</td>\n",
              "      <td>https://cdn.dnaindia.com/sites/default/files/s...</td>\n",
              "      <td>DNAINDIA</td>\n",
              "      <td>ELECTION</td>\n",
              "      <td>Oct-20</td>\n",
              "      <td>TRUE</td>\n",
              "    </tr>\n",
              "  </tbody>\n",
              "</table>\n",
              "</div>\n",
              "      <button class=\"colab-df-convert\" onclick=\"convertToInteractive('df-64ff8e37-e5ff-4e54-8604-0aabcc9d714d')\"\n",
              "              title=\"Convert this dataframe to an interactive table.\"\n",
              "              style=\"display:none;\">\n",
              "        \n",
              "  <svg xmlns=\"http://www.w3.org/2000/svg\" height=\"24px\"viewBox=\"0 0 24 24\"\n",
              "       width=\"24px\">\n",
              "    <path d=\"M0 0h24v24H0V0z\" fill=\"none\"/>\n",
              "    <path d=\"M18.56 5.44l.94 2.06.94-2.06 2.06-.94-2.06-.94-.94-2.06-.94 2.06-2.06.94zm-11 1L8.5 8.5l.94-2.06 2.06-.94-2.06-.94L8.5 2.5l-.94 2.06-2.06.94zm10 10l.94 2.06.94-2.06 2.06-.94-2.06-.94-.94-2.06-.94 2.06-2.06.94z\"/><path d=\"M17.41 7.96l-1.37-1.37c-.4-.4-.92-.59-1.43-.59-.52 0-1.04.2-1.43.59L10.3 9.45l-7.72 7.72c-.78.78-.78 2.05 0 2.83L4 21.41c.39.39.9.59 1.41.59.51 0 1.02-.2 1.41-.59l7.78-7.78 2.81-2.81c.8-.78.8-2.07 0-2.86zM5.41 20L4 18.59l7.72-7.72 1.47 1.35L5.41 20z\"/>\n",
              "  </svg>\n",
              "      </button>\n",
              "      \n",
              "  <style>\n",
              "    .colab-df-container {\n",
              "      display:flex;\n",
              "      flex-wrap:wrap;\n",
              "      gap: 12px;\n",
              "    }\n",
              "\n",
              "    .colab-df-convert {\n",
              "      background-color: #E8F0FE;\n",
              "      border: none;\n",
              "      border-radius: 50%;\n",
              "      cursor: pointer;\n",
              "      display: none;\n",
              "      fill: #1967D2;\n",
              "      height: 32px;\n",
              "      padding: 0 0 0 0;\n",
              "      width: 32px;\n",
              "    }\n",
              "\n",
              "    .colab-df-convert:hover {\n",
              "      background-color: #E2EBFA;\n",
              "      box-shadow: 0px 1px 2px rgba(60, 64, 67, 0.3), 0px 1px 3px 1px rgba(60, 64, 67, 0.15);\n",
              "      fill: #174EA6;\n",
              "    }\n",
              "\n",
              "    [theme=dark] .colab-df-convert {\n",
              "      background-color: #3B4455;\n",
              "      fill: #D2E3FC;\n",
              "    }\n",
              "\n",
              "    [theme=dark] .colab-df-convert:hover {\n",
              "      background-color: #434B5C;\n",
              "      box-shadow: 0px 1px 3px 1px rgba(0, 0, 0, 0.15);\n",
              "      filter: drop-shadow(0px 1px 2px rgba(0, 0, 0, 0.3));\n",
              "      fill: #FFFFFF;\n",
              "    }\n",
              "  </style>\n",
              "\n",
              "      <script>\n",
              "        const buttonEl =\n",
              "          document.querySelector('#df-64ff8e37-e5ff-4e54-8604-0aabcc9d714d button.colab-df-convert');\n",
              "        buttonEl.style.display =\n",
              "          google.colab.kernel.accessAllowed ? 'block' : 'none';\n",
              "\n",
              "        async function convertToInteractive(key) {\n",
              "          const element = document.querySelector('#df-64ff8e37-e5ff-4e54-8604-0aabcc9d714d');\n",
              "          const dataTable =\n",
              "            await google.colab.kernel.invokeFunction('convertToInteractive',\n",
              "                                                     [key], {});\n",
              "          if (!dataTable) return;\n",
              "\n",
              "          const docLinkHtml = 'Like what you see? Visit the ' +\n",
              "            '<a target=\"_blank\" href=https://colab.research.google.com/notebooks/data_table.ipynb>data table notebook</a>'\n",
              "            + ' to learn more about interactive tables.';\n",
              "          element.innerHTML = '';\n",
              "          dataTable['output_type'] = 'display_data';\n",
              "          await google.colab.output.renderOutput(dataTable, element);\n",
              "          const docLink = document.createElement('div');\n",
              "          docLink.innerHTML = docLinkHtml;\n",
              "          element.appendChild(docLink);\n",
              "        }\n",
              "      </script>\n",
              "    </div>\n",
              "  </div>\n",
              "  "
            ]
          },
          "metadata": {},
          "execution_count": 3
        }
      ]
    },
    {
      "cell_type": "code",
      "source": [
        "dataset.shape"
      ],
      "metadata": {
        "id": "R1Ue8PXDduno",
        "colab": {
          "base_uri": "https://localhost:8080/"
        },
        "outputId": "e0def4e8-ca22-4844-a3ee-33e8535017a0"
      },
      "execution_count": 4,
      "outputs": [
        {
          "output_type": "execute_result",
          "data": {
            "text/plain": [
              "(38561, 7)"
            ]
          },
          "metadata": {},
          "execution_count": 4
        }
      ]
    },
    {
      "cell_type": "code",
      "source": [
        "#checking empty values\n",
        "\n",
        "dataset.isna().sum()"
      ],
      "metadata": {
        "id": "4X0oZIToeAva",
        "colab": {
          "base_uri": "https://localhost:8080/"
        },
        "outputId": "0efa5b40-37d3-4b12-ffb5-723f0f75d102"
      },
      "execution_count": 5,
      "outputs": [
        {
          "output_type": "execute_result",
          "data": {
            "text/plain": [
              "id               0\n",
              "Statement        0\n",
              "Image            0\n",
              "Web              0\n",
              "Category        68\n",
              "Date         11167\n",
              "Label          197\n",
              "dtype: int64"
            ]
          },
          "metadata": {},
          "execution_count": 5
        }
      ]
    },
    {
      "cell_type": "code",
      "source": [
        "dataset.dropna(axis = 0, inplace = True)"
      ],
      "metadata": {
        "id": "Lb-pTLVaeS5-"
      },
      "execution_count": 6,
      "outputs": []
    },
    {
      "cell_type": "code",
      "source": [
        "dataset.shape"
      ],
      "metadata": {
        "id": "bFK2LCQHejto",
        "colab": {
          "base_uri": "https://localhost:8080/"
        },
        "outputId": "676bf6f3-4b2b-4398-df4b-95902d914c47"
      },
      "execution_count": 7,
      "outputs": [
        {
          "output_type": "execute_result",
          "data": {
            "text/plain": [
              "(27197, 7)"
            ]
          },
          "metadata": {},
          "execution_count": 7
        }
      ]
    },
    {
      "cell_type": "code",
      "source": [
        "dataset.isna().sum()"
      ],
      "metadata": {
        "id": "UCoVohPLewC9",
        "colab": {
          "base_uri": "https://localhost:8080/"
        },
        "outputId": "c0eee0c5-d269-41a0-bd3b-d00d928d6588"
      },
      "execution_count": 8,
      "outputs": [
        {
          "output_type": "execute_result",
          "data": {
            "text/plain": [
              "id           0\n",
              "Statement    0\n",
              "Image        0\n",
              "Web          0\n",
              "Category     0\n",
              "Date         0\n",
              "Label        0\n",
              "dtype: int64"
            ]
          },
          "metadata": {},
          "execution_count": 8
        }
      ]
    },
    {
      "cell_type": "code",
      "source": [
        "dataset"
      ],
      "metadata": {
        "id": "_GCTcYqFe7w5",
        "colab": {
          "base_uri": "https://localhost:8080/",
          "height": 424
        },
        "outputId": "12eb1e93-a2b8-4078-b68e-5ca1c338df92"
      },
      "execution_count": 9,
      "outputs": [
        {
          "output_type": "execute_result",
          "data": {
            "text/plain": [
              "          id                                          Statement  \\\n",
              "0          2  WHO praises India's Aarogya Setu app, says it ...   \n",
              "1          3  In Delhi, Deputy US Secretary of State Stephen...   \n",
              "2          4  LAC tensions: China's strategy behind delibera...   \n",
              "3          5  India has signed 250 documents on Space cooper...   \n",
              "4          6  Tamil Nadu chief minister's mother passes away...   \n",
              "...      ...                                                ...   \n",
              "38556  56711  Fact Check: This is not Bruce Lee playing ping...   \n",
              "38557  56712  Fact Check: Did Japan construct this bridge in...   \n",
              "38558  56713  Fact Check: Viral video of Mexico earthquake i...   \n",
              "38559  56714  Fact Check: Ballet performance by Chinese coup...   \n",
              "38560  56715  Fact Check: Is this little boy crossing into J...   \n",
              "\n",
              "                                                   Image         Web  \\\n",
              "0      https://cdn.dnaindia.com/sites/default/files/s...    DNAINDIA   \n",
              "1      https://cdn.dnaindia.com/sites/default/files/s...    DNAINDIA   \n",
              "2      https://cdn.dnaindia.com/sites/default/files/s...    DNAINDIA   \n",
              "3      https://cdn.dnaindia.com/sites/default/files/s...    DNAINDIA   \n",
              "4      https://cdn.dnaindia.com/sites/default/files/s...    DNAINDIA   \n",
              "...                                                  ...         ...   \n",
              "38556  https://akm-img-a-in.tosshub.com/indiatoday/im...  INDIATODAY   \n",
              "38557  https://akm-img-a-in.tosshub.com/indiatoday/im...  INDIATODAY   \n",
              "38558  https://akm-img-a-in.tosshub.com/indiatoday/im...  INDIATODAY   \n",
              "38559  https://akm-img-a-in.tosshub.com/indiatoday/im...  INDIATODAY   \n",
              "38560  https://akm-img-a-in.tosshub.com/indiatoday/im...  INDIATODAY   \n",
              "\n",
              "         Category    Date Label  \n",
              "0        COVID-19  Oct-20  TRUE  \n",
              "1        VIOLENCE  Oct-20  TRUE  \n",
              "2          TERROR  Oct-20  TRUE  \n",
              "3        COVID-19  Oct-20  TRUE  \n",
              "4        ELECTION  Oct-20  TRUE  \n",
              "...           ...     ...   ...  \n",
              "38556  MISLEADING  Nov-19  Fake  \n",
              "38557    COVID-19  Oct-19  Fake  \n",
              "38558  MISLEADING  Oct-19  Fake  \n",
              "38559    COVID-19  Sep-19  Fake  \n",
              "38560  MISLEADING  Sep-19  Fake  \n",
              "\n",
              "[27197 rows x 7 columns]"
            ],
            "text/html": [
              "\n",
              "  <div id=\"df-6ab57bea-27aa-4101-ba3f-47301e46cd3d\">\n",
              "    <div class=\"colab-df-container\">\n",
              "      <div>\n",
              "<style scoped>\n",
              "    .dataframe tbody tr th:only-of-type {\n",
              "        vertical-align: middle;\n",
              "    }\n",
              "\n",
              "    .dataframe tbody tr th {\n",
              "        vertical-align: top;\n",
              "    }\n",
              "\n",
              "    .dataframe thead th {\n",
              "        text-align: right;\n",
              "    }\n",
              "</style>\n",
              "<table border=\"1\" class=\"dataframe\">\n",
              "  <thead>\n",
              "    <tr style=\"text-align: right;\">\n",
              "      <th></th>\n",
              "      <th>id</th>\n",
              "      <th>Statement</th>\n",
              "      <th>Image</th>\n",
              "      <th>Web</th>\n",
              "      <th>Category</th>\n",
              "      <th>Date</th>\n",
              "      <th>Label</th>\n",
              "    </tr>\n",
              "  </thead>\n",
              "  <tbody>\n",
              "    <tr>\n",
              "      <th>0</th>\n",
              "      <td>2</td>\n",
              "      <td>WHO praises India's Aarogya Setu app, says it ...</td>\n",
              "      <td>https://cdn.dnaindia.com/sites/default/files/s...</td>\n",
              "      <td>DNAINDIA</td>\n",
              "      <td>COVID-19</td>\n",
              "      <td>Oct-20</td>\n",
              "      <td>TRUE</td>\n",
              "    </tr>\n",
              "    <tr>\n",
              "      <th>1</th>\n",
              "      <td>3</td>\n",
              "      <td>In Delhi, Deputy US Secretary of State Stephen...</td>\n",
              "      <td>https://cdn.dnaindia.com/sites/default/files/s...</td>\n",
              "      <td>DNAINDIA</td>\n",
              "      <td>VIOLENCE</td>\n",
              "      <td>Oct-20</td>\n",
              "      <td>TRUE</td>\n",
              "    </tr>\n",
              "    <tr>\n",
              "      <th>2</th>\n",
              "      <td>4</td>\n",
              "      <td>LAC tensions: China's strategy behind delibera...</td>\n",
              "      <td>https://cdn.dnaindia.com/sites/default/files/s...</td>\n",
              "      <td>DNAINDIA</td>\n",
              "      <td>TERROR</td>\n",
              "      <td>Oct-20</td>\n",
              "      <td>TRUE</td>\n",
              "    </tr>\n",
              "    <tr>\n",
              "      <th>3</th>\n",
              "      <td>5</td>\n",
              "      <td>India has signed 250 documents on Space cooper...</td>\n",
              "      <td>https://cdn.dnaindia.com/sites/default/files/s...</td>\n",
              "      <td>DNAINDIA</td>\n",
              "      <td>COVID-19</td>\n",
              "      <td>Oct-20</td>\n",
              "      <td>TRUE</td>\n",
              "    </tr>\n",
              "    <tr>\n",
              "      <th>4</th>\n",
              "      <td>6</td>\n",
              "      <td>Tamil Nadu chief minister's mother passes away...</td>\n",
              "      <td>https://cdn.dnaindia.com/sites/default/files/s...</td>\n",
              "      <td>DNAINDIA</td>\n",
              "      <td>ELECTION</td>\n",
              "      <td>Oct-20</td>\n",
              "      <td>TRUE</td>\n",
              "    </tr>\n",
              "    <tr>\n",
              "      <th>...</th>\n",
              "      <td>...</td>\n",
              "      <td>...</td>\n",
              "      <td>...</td>\n",
              "      <td>...</td>\n",
              "      <td>...</td>\n",
              "      <td>...</td>\n",
              "      <td>...</td>\n",
              "    </tr>\n",
              "    <tr>\n",
              "      <th>38556</th>\n",
              "      <td>56711</td>\n",
              "      <td>Fact Check: This is not Bruce Lee playing ping...</td>\n",
              "      <td>https://akm-img-a-in.tosshub.com/indiatoday/im...</td>\n",
              "      <td>INDIATODAY</td>\n",
              "      <td>MISLEADING</td>\n",
              "      <td>Nov-19</td>\n",
              "      <td>Fake</td>\n",
              "    </tr>\n",
              "    <tr>\n",
              "      <th>38557</th>\n",
              "      <td>56712</td>\n",
              "      <td>Fact Check: Did Japan construct this bridge in...</td>\n",
              "      <td>https://akm-img-a-in.tosshub.com/indiatoday/im...</td>\n",
              "      <td>INDIATODAY</td>\n",
              "      <td>COVID-19</td>\n",
              "      <td>Oct-19</td>\n",
              "      <td>Fake</td>\n",
              "    </tr>\n",
              "    <tr>\n",
              "      <th>38558</th>\n",
              "      <td>56713</td>\n",
              "      <td>Fact Check: Viral video of Mexico earthquake i...</td>\n",
              "      <td>https://akm-img-a-in.tosshub.com/indiatoday/im...</td>\n",
              "      <td>INDIATODAY</td>\n",
              "      <td>MISLEADING</td>\n",
              "      <td>Oct-19</td>\n",
              "      <td>Fake</td>\n",
              "    </tr>\n",
              "    <tr>\n",
              "      <th>38559</th>\n",
              "      <td>56714</td>\n",
              "      <td>Fact Check: Ballet performance by Chinese coup...</td>\n",
              "      <td>https://akm-img-a-in.tosshub.com/indiatoday/im...</td>\n",
              "      <td>INDIATODAY</td>\n",
              "      <td>COVID-19</td>\n",
              "      <td>Sep-19</td>\n",
              "      <td>Fake</td>\n",
              "    </tr>\n",
              "    <tr>\n",
              "      <th>38560</th>\n",
              "      <td>56715</td>\n",
              "      <td>Fact Check: Is this little boy crossing into J...</td>\n",
              "      <td>https://akm-img-a-in.tosshub.com/indiatoday/im...</td>\n",
              "      <td>INDIATODAY</td>\n",
              "      <td>MISLEADING</td>\n",
              "      <td>Sep-19</td>\n",
              "      <td>Fake</td>\n",
              "    </tr>\n",
              "  </tbody>\n",
              "</table>\n",
              "<p>27197 rows × 7 columns</p>\n",
              "</div>\n",
              "      <button class=\"colab-df-convert\" onclick=\"convertToInteractive('df-6ab57bea-27aa-4101-ba3f-47301e46cd3d')\"\n",
              "              title=\"Convert this dataframe to an interactive table.\"\n",
              "              style=\"display:none;\">\n",
              "        \n",
              "  <svg xmlns=\"http://www.w3.org/2000/svg\" height=\"24px\"viewBox=\"0 0 24 24\"\n",
              "       width=\"24px\">\n",
              "    <path d=\"M0 0h24v24H0V0z\" fill=\"none\"/>\n",
              "    <path d=\"M18.56 5.44l.94 2.06.94-2.06 2.06-.94-2.06-.94-.94-2.06-.94 2.06-2.06.94zm-11 1L8.5 8.5l.94-2.06 2.06-.94-2.06-.94L8.5 2.5l-.94 2.06-2.06.94zm10 10l.94 2.06.94-2.06 2.06-.94-2.06-.94-.94-2.06-.94 2.06-2.06.94z\"/><path d=\"M17.41 7.96l-1.37-1.37c-.4-.4-.92-.59-1.43-.59-.52 0-1.04.2-1.43.59L10.3 9.45l-7.72 7.72c-.78.78-.78 2.05 0 2.83L4 21.41c.39.39.9.59 1.41.59.51 0 1.02-.2 1.41-.59l7.78-7.78 2.81-2.81c.8-.78.8-2.07 0-2.86zM5.41 20L4 18.59l7.72-7.72 1.47 1.35L5.41 20z\"/>\n",
              "  </svg>\n",
              "      </button>\n",
              "      \n",
              "  <style>\n",
              "    .colab-df-container {\n",
              "      display:flex;\n",
              "      flex-wrap:wrap;\n",
              "      gap: 12px;\n",
              "    }\n",
              "\n",
              "    .colab-df-convert {\n",
              "      background-color: #E8F0FE;\n",
              "      border: none;\n",
              "      border-radius: 50%;\n",
              "      cursor: pointer;\n",
              "      display: none;\n",
              "      fill: #1967D2;\n",
              "      height: 32px;\n",
              "      padding: 0 0 0 0;\n",
              "      width: 32px;\n",
              "    }\n",
              "\n",
              "    .colab-df-convert:hover {\n",
              "      background-color: #E2EBFA;\n",
              "      box-shadow: 0px 1px 2px rgba(60, 64, 67, 0.3), 0px 1px 3px 1px rgba(60, 64, 67, 0.15);\n",
              "      fill: #174EA6;\n",
              "    }\n",
              "\n",
              "    [theme=dark] .colab-df-convert {\n",
              "      background-color: #3B4455;\n",
              "      fill: #D2E3FC;\n",
              "    }\n",
              "\n",
              "    [theme=dark] .colab-df-convert:hover {\n",
              "      background-color: #434B5C;\n",
              "      box-shadow: 0px 1px 3px 1px rgba(0, 0, 0, 0.15);\n",
              "      filter: drop-shadow(0px 1px 2px rgba(0, 0, 0, 0.3));\n",
              "      fill: #FFFFFF;\n",
              "    }\n",
              "  </style>\n",
              "\n",
              "      <script>\n",
              "        const buttonEl =\n",
              "          document.querySelector('#df-6ab57bea-27aa-4101-ba3f-47301e46cd3d button.colab-df-convert');\n",
              "        buttonEl.style.display =\n",
              "          google.colab.kernel.accessAllowed ? 'block' : 'none';\n",
              "\n",
              "        async function convertToInteractive(key) {\n",
              "          const element = document.querySelector('#df-6ab57bea-27aa-4101-ba3f-47301e46cd3d');\n",
              "          const dataTable =\n",
              "            await google.colab.kernel.invokeFunction('convertToInteractive',\n",
              "                                                     [key], {});\n",
              "          if (!dataTable) return;\n",
              "\n",
              "          const docLinkHtml = 'Like what you see? Visit the ' +\n",
              "            '<a target=\"_blank\" href=https://colab.research.google.com/notebooks/data_table.ipynb>data table notebook</a>'\n",
              "            + ' to learn more about interactive tables.';\n",
              "          element.innerHTML = '';\n",
              "          dataTable['output_type'] = 'display_data';\n",
              "          await google.colab.output.renderOutput(dataTable, element);\n",
              "          const docLink = document.createElement('div');\n",
              "          docLink.innerHTML = docLinkHtml;\n",
              "          element.appendChild(docLink);\n",
              "        }\n",
              "      </script>\n",
              "    </div>\n",
              "  </div>\n",
              "  "
            ]
          },
          "metadata": {},
          "execution_count": 9
        }
      ]
    },
    {
      "cell_type": "code",
      "source": [
        "dataset.reset_index(inplace = True)"
      ],
      "metadata": {
        "id": "8LzOSW8XfPjS"
      },
      "execution_count": 10,
      "outputs": []
    },
    {
      "cell_type": "code",
      "source": [
        "dataset"
      ],
      "metadata": {
        "id": "SHSnK5Kofc2a",
        "colab": {
          "base_uri": "https://localhost:8080/",
          "height": 424
        },
        "outputId": "0fdec34b-f838-43e1-d422-28f4aa798dfd"
      },
      "execution_count": 11,
      "outputs": [
        {
          "output_type": "execute_result",
          "data": {
            "text/plain": [
              "       index     id                                          Statement  \\\n",
              "0          0      2  WHO praises India's Aarogya Setu app, says it ...   \n",
              "1          1      3  In Delhi, Deputy US Secretary of State Stephen...   \n",
              "2          2      4  LAC tensions: China's strategy behind delibera...   \n",
              "3          3      5  India has signed 250 documents on Space cooper...   \n",
              "4          4      6  Tamil Nadu chief minister's mother passes away...   \n",
              "...      ...    ...                                                ...   \n",
              "27192  38556  56711  Fact Check: This is not Bruce Lee playing ping...   \n",
              "27193  38557  56712  Fact Check: Did Japan construct this bridge in...   \n",
              "27194  38558  56713  Fact Check: Viral video of Mexico earthquake i...   \n",
              "27195  38559  56714  Fact Check: Ballet performance by Chinese coup...   \n",
              "27196  38560  56715  Fact Check: Is this little boy crossing into J...   \n",
              "\n",
              "                                                   Image         Web  \\\n",
              "0      https://cdn.dnaindia.com/sites/default/files/s...    DNAINDIA   \n",
              "1      https://cdn.dnaindia.com/sites/default/files/s...    DNAINDIA   \n",
              "2      https://cdn.dnaindia.com/sites/default/files/s...    DNAINDIA   \n",
              "3      https://cdn.dnaindia.com/sites/default/files/s...    DNAINDIA   \n",
              "4      https://cdn.dnaindia.com/sites/default/files/s...    DNAINDIA   \n",
              "...                                                  ...         ...   \n",
              "27192  https://akm-img-a-in.tosshub.com/indiatoday/im...  INDIATODAY   \n",
              "27193  https://akm-img-a-in.tosshub.com/indiatoday/im...  INDIATODAY   \n",
              "27194  https://akm-img-a-in.tosshub.com/indiatoday/im...  INDIATODAY   \n",
              "27195  https://akm-img-a-in.tosshub.com/indiatoday/im...  INDIATODAY   \n",
              "27196  https://akm-img-a-in.tosshub.com/indiatoday/im...  INDIATODAY   \n",
              "\n",
              "         Category    Date Label  \n",
              "0        COVID-19  Oct-20  TRUE  \n",
              "1        VIOLENCE  Oct-20  TRUE  \n",
              "2          TERROR  Oct-20  TRUE  \n",
              "3        COVID-19  Oct-20  TRUE  \n",
              "4        ELECTION  Oct-20  TRUE  \n",
              "...           ...     ...   ...  \n",
              "27192  MISLEADING  Nov-19  Fake  \n",
              "27193    COVID-19  Oct-19  Fake  \n",
              "27194  MISLEADING  Oct-19  Fake  \n",
              "27195    COVID-19  Sep-19  Fake  \n",
              "27196  MISLEADING  Sep-19  Fake  \n",
              "\n",
              "[27197 rows x 8 columns]"
            ],
            "text/html": [
              "\n",
              "  <div id=\"df-843ec68a-9d1a-4afa-98ab-51c02316d169\">\n",
              "    <div class=\"colab-df-container\">\n",
              "      <div>\n",
              "<style scoped>\n",
              "    .dataframe tbody tr th:only-of-type {\n",
              "        vertical-align: middle;\n",
              "    }\n",
              "\n",
              "    .dataframe tbody tr th {\n",
              "        vertical-align: top;\n",
              "    }\n",
              "\n",
              "    .dataframe thead th {\n",
              "        text-align: right;\n",
              "    }\n",
              "</style>\n",
              "<table border=\"1\" class=\"dataframe\">\n",
              "  <thead>\n",
              "    <tr style=\"text-align: right;\">\n",
              "      <th></th>\n",
              "      <th>index</th>\n",
              "      <th>id</th>\n",
              "      <th>Statement</th>\n",
              "      <th>Image</th>\n",
              "      <th>Web</th>\n",
              "      <th>Category</th>\n",
              "      <th>Date</th>\n",
              "      <th>Label</th>\n",
              "    </tr>\n",
              "  </thead>\n",
              "  <tbody>\n",
              "    <tr>\n",
              "      <th>0</th>\n",
              "      <td>0</td>\n",
              "      <td>2</td>\n",
              "      <td>WHO praises India's Aarogya Setu app, says it ...</td>\n",
              "      <td>https://cdn.dnaindia.com/sites/default/files/s...</td>\n",
              "      <td>DNAINDIA</td>\n",
              "      <td>COVID-19</td>\n",
              "      <td>Oct-20</td>\n",
              "      <td>TRUE</td>\n",
              "    </tr>\n",
              "    <tr>\n",
              "      <th>1</th>\n",
              "      <td>1</td>\n",
              "      <td>3</td>\n",
              "      <td>In Delhi, Deputy US Secretary of State Stephen...</td>\n",
              "      <td>https://cdn.dnaindia.com/sites/default/files/s...</td>\n",
              "      <td>DNAINDIA</td>\n",
              "      <td>VIOLENCE</td>\n",
              "      <td>Oct-20</td>\n",
              "      <td>TRUE</td>\n",
              "    </tr>\n",
              "    <tr>\n",
              "      <th>2</th>\n",
              "      <td>2</td>\n",
              "      <td>4</td>\n",
              "      <td>LAC tensions: China's strategy behind delibera...</td>\n",
              "      <td>https://cdn.dnaindia.com/sites/default/files/s...</td>\n",
              "      <td>DNAINDIA</td>\n",
              "      <td>TERROR</td>\n",
              "      <td>Oct-20</td>\n",
              "      <td>TRUE</td>\n",
              "    </tr>\n",
              "    <tr>\n",
              "      <th>3</th>\n",
              "      <td>3</td>\n",
              "      <td>5</td>\n",
              "      <td>India has signed 250 documents on Space cooper...</td>\n",
              "      <td>https://cdn.dnaindia.com/sites/default/files/s...</td>\n",
              "      <td>DNAINDIA</td>\n",
              "      <td>COVID-19</td>\n",
              "      <td>Oct-20</td>\n",
              "      <td>TRUE</td>\n",
              "    </tr>\n",
              "    <tr>\n",
              "      <th>4</th>\n",
              "      <td>4</td>\n",
              "      <td>6</td>\n",
              "      <td>Tamil Nadu chief minister's mother passes away...</td>\n",
              "      <td>https://cdn.dnaindia.com/sites/default/files/s...</td>\n",
              "      <td>DNAINDIA</td>\n",
              "      <td>ELECTION</td>\n",
              "      <td>Oct-20</td>\n",
              "      <td>TRUE</td>\n",
              "    </tr>\n",
              "    <tr>\n",
              "      <th>...</th>\n",
              "      <td>...</td>\n",
              "      <td>...</td>\n",
              "      <td>...</td>\n",
              "      <td>...</td>\n",
              "      <td>...</td>\n",
              "      <td>...</td>\n",
              "      <td>...</td>\n",
              "      <td>...</td>\n",
              "    </tr>\n",
              "    <tr>\n",
              "      <th>27192</th>\n",
              "      <td>38556</td>\n",
              "      <td>56711</td>\n",
              "      <td>Fact Check: This is not Bruce Lee playing ping...</td>\n",
              "      <td>https://akm-img-a-in.tosshub.com/indiatoday/im...</td>\n",
              "      <td>INDIATODAY</td>\n",
              "      <td>MISLEADING</td>\n",
              "      <td>Nov-19</td>\n",
              "      <td>Fake</td>\n",
              "    </tr>\n",
              "    <tr>\n",
              "      <th>27193</th>\n",
              "      <td>38557</td>\n",
              "      <td>56712</td>\n",
              "      <td>Fact Check: Did Japan construct this bridge in...</td>\n",
              "      <td>https://akm-img-a-in.tosshub.com/indiatoday/im...</td>\n",
              "      <td>INDIATODAY</td>\n",
              "      <td>COVID-19</td>\n",
              "      <td>Oct-19</td>\n",
              "      <td>Fake</td>\n",
              "    </tr>\n",
              "    <tr>\n",
              "      <th>27194</th>\n",
              "      <td>38558</td>\n",
              "      <td>56713</td>\n",
              "      <td>Fact Check: Viral video of Mexico earthquake i...</td>\n",
              "      <td>https://akm-img-a-in.tosshub.com/indiatoday/im...</td>\n",
              "      <td>INDIATODAY</td>\n",
              "      <td>MISLEADING</td>\n",
              "      <td>Oct-19</td>\n",
              "      <td>Fake</td>\n",
              "    </tr>\n",
              "    <tr>\n",
              "      <th>27195</th>\n",
              "      <td>38559</td>\n",
              "      <td>56714</td>\n",
              "      <td>Fact Check: Ballet performance by Chinese coup...</td>\n",
              "      <td>https://akm-img-a-in.tosshub.com/indiatoday/im...</td>\n",
              "      <td>INDIATODAY</td>\n",
              "      <td>COVID-19</td>\n",
              "      <td>Sep-19</td>\n",
              "      <td>Fake</td>\n",
              "    </tr>\n",
              "    <tr>\n",
              "      <th>27196</th>\n",
              "      <td>38560</td>\n",
              "      <td>56715</td>\n",
              "      <td>Fact Check: Is this little boy crossing into J...</td>\n",
              "      <td>https://akm-img-a-in.tosshub.com/indiatoday/im...</td>\n",
              "      <td>INDIATODAY</td>\n",
              "      <td>MISLEADING</td>\n",
              "      <td>Sep-19</td>\n",
              "      <td>Fake</td>\n",
              "    </tr>\n",
              "  </tbody>\n",
              "</table>\n",
              "<p>27197 rows × 8 columns</p>\n",
              "</div>\n",
              "      <button class=\"colab-df-convert\" onclick=\"convertToInteractive('df-843ec68a-9d1a-4afa-98ab-51c02316d169')\"\n",
              "              title=\"Convert this dataframe to an interactive table.\"\n",
              "              style=\"display:none;\">\n",
              "        \n",
              "  <svg xmlns=\"http://www.w3.org/2000/svg\" height=\"24px\"viewBox=\"0 0 24 24\"\n",
              "       width=\"24px\">\n",
              "    <path d=\"M0 0h24v24H0V0z\" fill=\"none\"/>\n",
              "    <path d=\"M18.56 5.44l.94 2.06.94-2.06 2.06-.94-2.06-.94-.94-2.06-.94 2.06-2.06.94zm-11 1L8.5 8.5l.94-2.06 2.06-.94-2.06-.94L8.5 2.5l-.94 2.06-2.06.94zm10 10l.94 2.06.94-2.06 2.06-.94-2.06-.94-.94-2.06-.94 2.06-2.06.94z\"/><path d=\"M17.41 7.96l-1.37-1.37c-.4-.4-.92-.59-1.43-.59-.52 0-1.04.2-1.43.59L10.3 9.45l-7.72 7.72c-.78.78-.78 2.05 0 2.83L4 21.41c.39.39.9.59 1.41.59.51 0 1.02-.2 1.41-.59l7.78-7.78 2.81-2.81c.8-.78.8-2.07 0-2.86zM5.41 20L4 18.59l7.72-7.72 1.47 1.35L5.41 20z\"/>\n",
              "  </svg>\n",
              "      </button>\n",
              "      \n",
              "  <style>\n",
              "    .colab-df-container {\n",
              "      display:flex;\n",
              "      flex-wrap:wrap;\n",
              "      gap: 12px;\n",
              "    }\n",
              "\n",
              "    .colab-df-convert {\n",
              "      background-color: #E8F0FE;\n",
              "      border: none;\n",
              "      border-radius: 50%;\n",
              "      cursor: pointer;\n",
              "      display: none;\n",
              "      fill: #1967D2;\n",
              "      height: 32px;\n",
              "      padding: 0 0 0 0;\n",
              "      width: 32px;\n",
              "    }\n",
              "\n",
              "    .colab-df-convert:hover {\n",
              "      background-color: #E2EBFA;\n",
              "      box-shadow: 0px 1px 2px rgba(60, 64, 67, 0.3), 0px 1px 3px 1px rgba(60, 64, 67, 0.15);\n",
              "      fill: #174EA6;\n",
              "    }\n",
              "\n",
              "    [theme=dark] .colab-df-convert {\n",
              "      background-color: #3B4455;\n",
              "      fill: #D2E3FC;\n",
              "    }\n",
              "\n",
              "    [theme=dark] .colab-df-convert:hover {\n",
              "      background-color: #434B5C;\n",
              "      box-shadow: 0px 1px 3px 1px rgba(0, 0, 0, 0.15);\n",
              "      filter: drop-shadow(0px 1px 2px rgba(0, 0, 0, 0.3));\n",
              "      fill: #FFFFFF;\n",
              "    }\n",
              "  </style>\n",
              "\n",
              "      <script>\n",
              "        const buttonEl =\n",
              "          document.querySelector('#df-843ec68a-9d1a-4afa-98ab-51c02316d169 button.colab-df-convert');\n",
              "        buttonEl.style.display =\n",
              "          google.colab.kernel.accessAllowed ? 'block' : 'none';\n",
              "\n",
              "        async function convertToInteractive(key) {\n",
              "          const element = document.querySelector('#df-843ec68a-9d1a-4afa-98ab-51c02316d169');\n",
              "          const dataTable =\n",
              "            await google.colab.kernel.invokeFunction('convertToInteractive',\n",
              "                                                     [key], {});\n",
              "          if (!dataTable) return;\n",
              "\n",
              "          const docLinkHtml = 'Like what you see? Visit the ' +\n",
              "            '<a target=\"_blank\" href=https://colab.research.google.com/notebooks/data_table.ipynb>data table notebook</a>'\n",
              "            + ' to learn more about interactive tables.';\n",
              "          element.innerHTML = '';\n",
              "          dataTable['output_type'] = 'display_data';\n",
              "          await google.colab.output.renderOutput(dataTable, element);\n",
              "          const docLink = document.createElement('div');\n",
              "          docLink.innerHTML = docLinkHtml;\n",
              "          element.appendChild(docLink);\n",
              "        }\n",
              "      </script>\n",
              "    </div>\n",
              "  </div>\n",
              "  "
            ]
          },
          "metadata": {},
          "execution_count": 11
        }
      ]
    },
    {
      "cell_type": "code",
      "source": [
        "#balanced data or imbalanced\n",
        "\n",
        "sns.countplot(dataset['Label'])"
      ],
      "metadata": {
        "id": "6aydAnpZfu3s",
        "colab": {
          "base_uri": "https://localhost:8080/",
          "height": 351
        },
        "outputId": "8c64158a-a207-4876-bf56-1570877822be"
      },
      "execution_count": 12,
      "outputs": [
        {
          "output_type": "stream",
          "name": "stderr",
          "text": [
            "/usr/local/lib/python3.7/dist-packages/seaborn/_decorators.py:43: FutureWarning: Pass the following variable as a keyword arg: x. From version 0.12, the only valid positional argument will be `data`, and passing other arguments without an explicit keyword will result in an error or misinterpretation.\n",
            "  FutureWarning\n"
          ]
        },
        {
          "output_type": "execute_result",
          "data": {
            "text/plain": [
              "<matplotlib.axes._subplots.AxesSubplot at 0x7f8943750b10>"
            ]
          },
          "metadata": {},
          "execution_count": 12
        },
        {
          "output_type": "display_data",
          "data": {
            "text/plain": [
              "<Figure size 432x288 with 1 Axes>"
            ],
            "image/png": "[encoded data removed]"
          },
          "metadata": {
            "needs_background": "light"
          }
        }
      ]
    },
    {
      "cell_type": "code",
      "source": [
        "data = dataset['Statement'][0]\n",
        "data"
      ],
      "metadata": {
        "id": "t5yQ0YxggxTz",
        "colab": {
          "base_uri": "https://localhost:8080/",
          "height": 36
        },
        "outputId": "e98dd5e4-271c-4de1-86b0-b748eafec051"
      },
      "execution_count": 13,
      "outputs": [
        {
          "output_type": "execute_result",
          "data": {
            "text/plain": [
              "\"WHO praises India's Aarogya Setu app, says it helped in identifying COVID-19 clusters\""
            ],
            "application/vnd.google.colaboratory.intrinsic+json": {
              "type": "string"
            }
          },
          "metadata": {},
          "execution_count": 13
        }
      ]
    },
    {
      "cell_type": "code",
      "source": [
        "#regular expression\n",
        "\n",
        "import re"
      ],
      "metadata": {
        "id": "WaJaijdnhnDW"
      },
      "execution_count": 14,
      "outputs": []
    },
    {
      "cell_type": "code",
      "source": [
        "data = re.sub('[^a-zA-Z]', ' ' , data)"
      ],
      "metadata": {
        "id": "zQIpwJfwiGLd"
      },
      "execution_count": 15,
      "outputs": []
    },
    {
      "cell_type": "code",
      "source": [
        "#changing to lower case\n",
        "\n",
        "data = data.lower()\n",
        "data"
      ],
      "metadata": {
        "id": "Cb1lNpPGi-wd",
        "colab": {
          "base_uri": "https://localhost:8080/",
          "height": 36
        },
        "outputId": "d65d2b44-3e65-45a3-f4a0-f380c5ea83ad"
      },
      "execution_count": 16,
      "outputs": [
        {
          "output_type": "execute_result",
          "data": {
            "text/plain": [
              "'who praises india s aarogya setu app  says it helped in identifying covid    clusters'"
            ],
            "application/vnd.google.colaboratory.intrinsic+json": {
              "type": "string"
            }
          },
          "metadata": {},
          "execution_count": 16
        }
      ]
    },
    {
      "cell_type": "code",
      "source": [
        "#split the text\n",
        "\n",
        "list = data.split()\n",
        "list"
      ],
      "metadata": {
        "id": "_6HXUVZqjpFX",
        "colab": {
          "base_uri": "https://localhost:8080/"
        },
        "outputId": "485dbba0-6dca-4e2c-8390-6118c1c584fb"
      },
      "execution_count": 17,
      "outputs": [
        {
          "output_type": "execute_result",
          "data": {
            "text/plain": [
              "['who',\n",
              " 'praises',\n",
              " 'india',\n",
              " 's',\n",
              " 'aarogya',\n",
              " 'setu',\n",
              " 'app',\n",
              " 'says',\n",
              " 'it',\n",
              " 'helped',\n",
              " 'in',\n",
              " 'identifying',\n",
              " 'covid',\n",
              " 'clusters']"
            ]
          },
          "metadata": {},
          "execution_count": 17
        }
      ]
    },
    {
      "cell_type": "code",
      "source": [
        "!pip install nltk\n",
        "import nltk"
      ],
      "metadata": {
        "id": "UOVWPpHukBJM",
        "colab": {
          "base_uri": "https://localhost:8080/"
        },
        "outputId": "918648f1-6927-4849-f4ef-af5e1aeb0598"
      },
      "execution_count": 18,
      "outputs": [
        {
          "output_type": "stream",
          "name": "stdout",
          "text": [
            "Looking in indexes: https://pypi.org/simple, https://us-python.pkg.dev/colab-wheels/public/simple/\n",
            "Requirement already satisfied: nltk in /usr/local/lib/python3.7/dist-packages (3.7)\n",
            "Requirement already satisfied: tqdm in /usr/local/lib/python3.7/dist-packages (from nltk) (4.64.1)\n",
            "Requirement already satisfied: joblib in /usr/local/lib/python3.7/dist-packages (from nltk) (1.2.0)\n",
            "Requirement already satisfied: regex>=2021.8.3 in /usr/local/lib/python3.7/dist-packages (from nltk) (2022.6.2)\n",
            "Requirement already satisfied: click in /usr/local/lib/python3.7/dist-packages (from nltk) (7.1.2)\n"
          ]
        }
      ]
    },
    {
      "cell_type": "code",
      "source": [
        "nltk.download('stopwords')"
      ],
      "metadata": {
        "id": "BtlICkG_kSWf",
        "colab": {
          "base_uri": "https://localhost:8080/"
        },
        "outputId": "61326d4d-436e-44a3-e9b5-4232b2d84e56"
      },
      "execution_count": 19,
      "outputs": [
        {
          "output_type": "stream",
          "name": "stderr",
          "text": [
            "[nltk_data] Downloading package stopwords to /root/nltk_data...\n",
            "[nltk_data]   Package stopwords is already up-to-date!\n"
          ]
        },
        {
          "output_type": "execute_result",
          "data": {
            "text/plain": [
              "True"
            ]
          },
          "metadata": {},
          "execution_count": 19
        }
      ]
    },
    {
      "cell_type": "code",
      "source": [
        "#remove the stopwords from the text if any \n",
        "\n",
        "from nltk.corpus import stopwords\n",
        "from nltk.stem.porter import PorterStemmer"
      ],
      "metadata": {
        "id": "Dom_NTOej1im"
      },
      "execution_count": 20,
      "outputs": []
    },
    {
      "cell_type": "code",
      "source": [
        "ps = PorterStemmer()\n",
        "\n",
        "review = [ps.stem(word) for word in list if word not in set(stopwords.words('english'))]"
      ],
      "metadata": {
        "id": "Cisq7gQ8kzC1"
      },
      "execution_count": 21,
      "outputs": []
    },
    {
      "cell_type": "code",
      "source": [
        "review"
      ],
      "metadata": {
        "id": "coqpAlBPlbNr",
        "colab": {
          "base_uri": "https://localhost:8080/"
        },
        "outputId": "af413543-105c-4b2b-a3d3-423c2e58a9a9"
      },
      "execution_count": 22,
      "outputs": [
        {
          "output_type": "execute_result",
          "data": {
            "text/plain": [
              "['prais',\n",
              " 'india',\n",
              " 'aarogya',\n",
              " 'setu',\n",
              " 'app',\n",
              " 'say',\n",
              " 'help',\n",
              " 'identifi',\n",
              " 'covid',\n",
              " 'cluster']"
            ]
          },
          "metadata": {},
          "execution_count": 22
        }
      ]
    },
    {
      "cell_type": "code",
      "source": [
        "' '.join(review)"
      ],
      "metadata": {
        "id": "w5esctN4miGV",
        "colab": {
          "base_uri": "https://localhost:8080/",
          "height": 36
        },
        "outputId": "a0f4eb46-13c7-4c93-e0da-19773a3ec0ee"
      },
      "execution_count": 23,
      "outputs": [
        {
          "output_type": "execute_result",
          "data": {
            "text/plain": [
              "'prais india aarogya setu app say help identifi covid cluster'"
            ],
            "application/vnd.google.colaboratory.intrinsic+json": {
              "type": "string"
            }
          },
          "metadata": {},
          "execution_count": 23
        }
      ]
    },
    {
      "cell_type": "code",
      "source": [
        "corpus = []\n",
        "\n",
        "for i in range(0, len(dataset)):\n",
        "  review = re.sub('[^a-zA-Z]' , ' ', dataset['Statement'][i])\n",
        "  review = review.lower()\n",
        "  list = review.split()\n",
        "  review = [ps.stem(word) for word in list if word not in set(stopwords.words('english'))]\n",
        "  corpus.append(' '.join(review))"
      ],
      "metadata": {
        "id": "7hCuh6Kqm3NP"
      },
      "execution_count": 24,
      "outputs": []
    },
    {
      "cell_type": "code",
      "source": [
        "corpus[0]"
      ],
      "metadata": {
        "id": "8xnamVm1omPO",
        "colab": {
          "base_uri": "https://localhost:8080/",
          "height": 36
        },
        "outputId": "773e698c-309e-4279-b20c-927e2c47fe67"
      },
      "execution_count": 25,
      "outputs": [
        {
          "output_type": "execute_result",
          "data": {
            "text/plain": [
              "'prais india aarogya setu app say help identifi covid cluster'"
            ],
            "application/vnd.google.colaboratory.intrinsic+json": {
              "type": "string"
            }
          },
          "metadata": {},
          "execution_count": 25
        }
      ]
    },
    {
      "cell_type": "code",
      "source": [
        "corpus"
      ],
      "metadata": {
        "id": "55jS32Ywovhd",
        "colab": {
          "base_uri": "https://localhost:8080/"
        },
        "outputId": "440e5ed2-67de-4acf-a4a4-6e75e69c9d1a"
      },
      "execution_count": 26,
      "outputs": [
        {
          "output_type": "execute_result",
          "data": {
            "text/plain": [
              "['prais india aarogya setu app say help identifi covid cluster',\n",
              " 'delhi deputi us secretari state stephen biegun pitch pax indo pacifica',\n",
              " 'lac tension china strategi behind deliber fail talk india',\n",
              " 'india sign document space cooper countri isro chief',\n",
              " 'tamil nadu chief minist mother pass away',\n",
              " 'bihar assembl elect tej pratap shift mahua hasanpur',\n",
              " 'hathra case cbi reach victim villag visit crime scene',\n",
              " 'rajasthan crime news karauli anoth elderli beaten death sikar five youth custodi',\n",
              " 'mumbai bmc book penalis peopl step without face mask',\n",
              " 'covid india singl day spike drop talli approach lakh',\n",
              " 'amid stubbl burn delhi air qualiti deterior poor',\n",
              " 'bihar assembl elect bjp expel nine rebel contest elect nda candid',\n",
              " 'pm modi releas balasaheb vikh patil autobiographi',\n",
              " 'post offic recruit big vacanc post th pass check elig pay scale',\n",
              " 'mumbai power outag fire report hospit',\n",
              " 'tamil nadu covid recoveri touch six lakh mark activ case',\n",
              " 'indian export armenia increas three fold past three year',\n",
              " 'indian hostag freed libya good health mea',\n",
              " 'defenc minist rajnath singh inaugur strateg bridg built bro ladakh alon',\n",
              " 'jammu kashmir top let terrorist saifullah kill encount secur forc',\n",
              " 'aarey metro car shed reloc kanjurmarg land avail free cost uddhav thackeray',\n",
              " 'mumbai outag major blackout power suppli restor area thackeray order probe',\n",
              " 'kushboo sundar need know south superstar turn politician',\n",
              " 'mumbai power outag bmc instruct hospit get enough diesel least hour',\n",
              " 'mumbai suffer major power outag local train servic affect',\n",
              " 'india china hold th corp command level talk today chushul',\n",
              " 'minor rape jhansi polytechn colleg incid film student',\n",
              " 'bihar woman gang rape thrown river year old son child drown',\n",
              " 'seven indian kidnap libya septemb releas',\n",
              " 'amid tight secur hathra victim famili leav lucknow appear bench allahabad high court',\n",
              " 'delhi govern exempt road tax batteri oper vehicl',\n",
              " 'anoth lockdown puja festiv delhi take blow govt disallow fair process',\n",
              " 'bihar assembl elect bjp releas list star campaign pm modi jp nadda top list',\n",
              " 'andhra govt complain cji alleg intervent sit sc judg',\n",
              " 'j k pakistan violat ceasefir poonch indian armi repli befittingli',\n",
              " 'indian railway upgrad plan ac coach replac gener sleeper coach high speed train',\n",
              " 'covid case surg among teacher week holiday karnataka school octob',\n",
              " 'amazon great indian festiv sale last till diwali heavi discount upto percent offer',\n",
              " 'jharkhand jmm leader shankar rawani wife found murder resid dhanbad',\n",
              " 'bjp releas list candid elect state',\n",
              " 'god say celebr festiv ostentati harsh vardhan warn larg congreg amidst pandem',\n",
              " 'congress woman leader beaten parti worker question decis field rapist',\n",
              " 'swamitva scheme pm modi launch physic distribut properti card thing know',\n",
              " 'cbi regist fir accus hathra gang rape case take investig',\n",
              " 'polic must adher norm centr issu fresh advisori state women safeti amid hathra outrag',\n",
              " 'attempt check rise price puls centr offer urad tur subsidis rate',\n",
              " 'svamitva scheme pm modi launch physic distribut properti card oct',\n",
              " 'assam kamakhya templ open devote today',\n",
              " 'hathra gang rape case transfer cbi fir file soon',\n",
              " 'assam close state run madrassa novemb himanta biswa sarma',\n",
              " 'unlock school uttar pradesh reopen octob read rule regul',\n",
              " 'bihar assembl elect congress releas list star campaign',\n",
              " 'last rite ram vila paswan perform patna full state honour',\n",
              " 'du admiss delhi univers releas first cut list check du ac',\n",
              " 'renew intern drive licenc becom easier centr mull chang motor vehicl rule',\n",
              " 'nitish kumar humili father chirag paswan open letter jp nadda',\n",
              " 'book cancel train ticket minut departur new rule come effect octob',\n",
              " 'ec issu revis guidelin upcom poll limit number star campaign',\n",
              " 'goa becom first har ghar jal state provid tap water connect rural area',\n",
              " 'last rite ram vila paswan take place patna today full state honour',\n",
              " 'odisha poll balasor tirtol constitu held nov result nov',\n",
              " 'dna special adulter veget affect health well',\n",
              " 'woman die freak accid hyderabad hair get stuck go kart wheel',\n",
              " 'rajasthan bjp slam state govt priest brutal kill karauli dholpur mp manoj rajoria meet kin tomorrow',\n",
              " 'troubl arnab goswami mumbai crime branch summon top republ tv offici',\n",
              " 'shiv sena leader sanjay raut laud mumbai polic courag step bust rs crore trp scam',\n",
              " 'west bengal man arrest firearm bjp ralli controversi erupt turban pull',\n",
              " 'rajasthan templ priest set fire karauli land disput accus arrest',\n",
              " 'kerala padmanabhaswami templ close darshan till oct priest test covid posit',\n",
              " 'pm modi launch physic distribut properti card svamitva scheme octob',\n",
              " 'piyush goyal get addit charg ministri consum affair food public distribut',\n",
              " 'presid pm modi other pay last respect former minist ram vila paswan',\n",
              " 'india report new case death talli breach lakh mark',\n",
              " 'curb air pollut action plan implement octob delhi ncr',\n",
              " 'covid case delhi may surg per day winter report',\n",
              " 'dna special trp racket big bad blot journal',\n",
              " 'nation flag fli half mast friday mark respect ram vila paswan',\n",
              " 'union minist ram vila paswan die day heart surgeri',\n",
              " 'reform educ labour agricultur impact almost everi indian pm modi',\n",
              " 'nabanno chalo bjp slam bengal polic use chemic fill water cannon mamata govt refut charg',\n",
              " 'bengal bjp worker clash polic nabanna chalo protest march crowd dispers lathi charg',\n",
              " 'mumbai polic expos racket manipul trp two arrest republ tv radar',\n",
              " 'new delhi lucknow teja express oper octob know train journey guidelin book ticket irctc',\n",
              " 'hathra victim deserv justic slander priyanka gandhi',\n",
              " 'indian air forc day virat kohli pay tribut nation hero',\n",
              " 'iaf display prowess th air forc day coa say readi safeguard india circumst',\n",
              " 'noida jewar intern airport open floodgat develop western uttar pradesh',\n",
              " 'revis unlock guidelin home ministri issu fresh sop polit gather elect state',\n",
              " 'india take strong punch pakistan call strong action terror support',\n",
              " 'amid covid crisi maharashtra becom first state regul price mask',\n",
              " 'us elect kamala penc debat open clash trump administr covid respons',\n",
              " 'dna special detail analysi rahul gandhi claim throw chines armi minut',\n",
              " 'mother babi die quack assist deliveri noida bodi dump',\n",
              " 'taiwan tell china get lost chines mission ask indian media follow one china polici',\n",
              " 'need know high secur registr plate colour code sticker',\n",
              " 'former cbi director ashwani kumar found hang shimla home say cop',\n",
              " 'zee news editor chief sudhir chaudhari get call pakistan',\n",
              " 'atal tunnel accid hour new rule come effect',\n",
              " 'railway ministri privat player train project receiv applic cluster check full detail',\n",
              " 'india believ indigen defenc capabl foundat peac rajnath singh',\n",
              " 'navratri cm yogi adityanath take big decis women safeti',\n",
              " 'incom tax raid patna sasaram varanasi rs crore seiz',\n",
              " 'bro build india longest steel bridg manali leh highway',\n",
              " 'cabinet approv complet kolkata east west metro corridor project rs crore',\n",
              " 'amid border tension china indian defenc forc consid made india carbin',\n",
              " 'rbse class supplementari exam result declar check rajeduboard rajasthan gov',\n",
              " 'centr decid launch covid awar campaign today',\n",
              " 'bihar assembl elect know cast calculu ticket distribut bjp rjd congress',\n",
              " 'work jewar intern airport start soon key pact sign',\n",
              " 'pm modi wish russian presid vladimir putin th birthday',\n",
              " 'india japan finalis cybersecur agreement g ai cooper',\n",
              " 'unlock school reopen guidelin explain know school open',\n",
              " 'kashmir secur forc elimin four terrorist hour',\n",
              " 'rajasthan minor girl gang rape barmer case regist',\n",
              " 'mileston pm modi enter th year public offic without break',\n",
              " 'aiadmk announc e palaniswami cm candid tn poll get member steer committe',\n",
              " 'bihar assembl elect list congress candid like field seat',\n",
              " 'bombay hc grant bail rhea chakraborti reject brother showik plea',\n",
              " 'amid covid voter turnout record third phase rajasthan panchayat elect',\n",
              " 'hathra case yogi order sit get day extens submit report',\n",
              " 'job women ap anganwadi post fill soon',\n",
              " 'data asian american voter grew group',\n",
              " 'data analysi elector bond sold januari',\n",
              " 'poll rajya sabha seat nda may lose seat upa may gain seat',\n",
              " 'polit donat elector bond time contribut receiv elector trust',\n",
              " 'incom nation parti soar thank elector bond',\n",
              " 'year nota vote share declin reserv seat still poll higher nota share',\n",
              " 'declin nota share continu jharkhand assembl elect',\n",
              " 'half state parti submit audit contribut report till date',\n",
              " 'bjp congress submit detail elector bond donor suprem court due date',\n",
              " 'amidst debat around one nation one elect look elector reform propos',\n",
              " 'till date elector bond worth crore encash new delhi alon',\n",
              " 'infograph stori elector bond',\n",
              " 'even greater vote share nota reserv constitu',\n",
              " 'lok sabha elect nota vote share highest bihar',\n",
              " 'video count vote take place',\n",
              " 'crore amount elector bond purchas march april',\n",
              " 'data indic correl use evm anti incumb',\n",
              " 'readjust lok sabha seat everi censu',\n",
              " 'secur deploy plan elect made',\n",
              " 'track bjp manifesto promis health servic',\n",
              " 'clear air tender vote special case',\n",
              " 'candid contest nalgonda',\n",
              " 'less nri regist voter regist kerala',\n",
              " 'vs andhra pradesh state number voter decreas',\n",
              " 'incom nation parti unknown sourc',\n",
              " 'diminish role independ candid lok sabha elect',\n",
              " 'expenditur incur conduct lok sabha elect',\n",
              " 'curiou case nota vote reserv constitu',\n",
              " 'data suggest support nota decreas',\n",
              " 'number polit parti increas twofold last year cross mark',\n",
              " 'mani time polit parti secur poll vote',\n",
              " 'explain video model code conduct enforc elect',\n",
              " 'video polit parti get recogn state nation parti',\n",
              " 'alphabet e q r elector roll indic',\n",
              " 'stand benefit simultan elect',\n",
              " 'elector bond avail citi sbi yet updat softwar',\n",
              " 'voter prefer nota part',\n",
              " 'detail review newli launch rti onlin portal elect commiss india',\n",
              " 'sourc incom elect affidavit promin candid karnataka mention',\n",
              " 'fact check amit shah wrong bjp lost seat margin less nota',\n",
              " 'nota stori karnataka elect',\n",
              " 'make sens rajya sabha result march',\n",
              " 'explain video elector bond impact',\n",
              " 'nota stori gujarat',\n",
              " 'amidst tussl govt ec citizen suffer',\n",
              " 'scuttl transpar elect commiss respond rti onlin applic',\n",
              " 'becom indian voter',\n",
              " 'math rajya sabha elect',\n",
              " 'ec reject vote gujarat congress mla',\n",
              " 'differ elect congress parti oppos nota rs elect',\n",
              " 'highest ever vote share winner presidenti elect',\n",
              " 'dummi guid vice presid elect',\n",
              " 'dummi guid presid india elect',\n",
              " 'lowest ever vote percentag elect jammu kashmir',\n",
              " 'oversea indian will vote indian elect someth',\n",
              " 'quarter seat tamil nadu margin less',\n",
              " 'power',\n",
              " 'nota make impact five state',\n",
              " 'seat may well decid fate tamil nadu elect',\n",
              " 'curiou case sambhaji lakshman patil law help hold two posit mla councilor',\n",
              " 'member legisl council vidhan parishad state elect',\n",
              " 'nota count margin victori constitu bihar',\n",
              " 'statist highlight bihar assembl elect part',\n",
              " 'elect commiss suspend voter id aadhaar seed follow suprem court order',\n",
              " 'link voter id aadhaar mandatori name delet voter list',\n",
              " 'financi report polit parti good noth',\n",
              " 'number polit parti india grow faster economi',\n",
              " 'aap thump victori number analysi delhi assembl elect result',\n",
              " 'protest farm law day ask farmer burn pm effigi chaduni book romot enmiti',\n",
              " 'himach resum interst bu servic today',\n",
              " 'railway oper festiv special train octob novemb',\n",
              " 'soyabean price inch closer msp farmer follow ait watch polici offload product',\n",
              " 'show caus notic closur issu flipkart patanjali pwm rule cpcb tell ngt',\n",
              " 'three dalit sister minor attack acid uttar pradesh',\n",
              " 'aarogya setu app help identifi covid cluster',\n",
              " 'congress leader file counter complaint woman parti worker deoria meet rucku',\n",
              " 'rajya sabha poll fill vacanc novemb',\n",
              " 'disturb area act amend gujarat get presidenti assent pradeepsinh jadeja',\n",
              " 'day give birth ghaziabad offic covid return offic newborn tow',\n",
              " 'j k cop three school teacher held psa',\n",
              " 'gujarat bjp candid jitu chaudhari file nomin',\n",
              " 'hathra case govt nethic job say congress leader rahul priyanka gandhi',\n",
              " 'bollywood produc move court name two news channel make rrespons defamatori remark',\n",
              " 'hathra victim famili appear hc next hear novemb',\n",
              " 'jammu time congress mla mohammad sharief niaz pass away',\n",
              " 'pm modi address peopl bengal durga puja kailash vijayvargiya',\n",
              " 'aiadmk dmk blow tamil nadu poll bugl announc manifesto panel',\n",
              " 'arrest way hathra driver among book sedit famili say know other',\n",
              " 'properti card launch end disput say pm modi',\n",
              " 'five congress turncoat bjp list assembl bypol gujarat',\n",
              " 'activ covid case k bengal recoveri rate take hit',\n",
              " 'coronaviru india highlight himach pradesh cm jairam thakur test posit',\n",
              " 'odisha day birthday bash bjp mp offic seal',\n",
              " 'aiib world bank fund project invest bn india covid fight',\n",
              " 'delhi dalit right bodi stage protest demand strict action hathra accus',\n",
              " 'muslim happi india bhagwat',\n",
              " 'tender invit construct ropeway connect bank narmada river kevadia',\n",
              " 'final mill get maharashtra govt guarante owner say measur may come late',\n",
              " 'social activist write cm effort lift prohibit gadchiroli',\n",
              " 'phoolka post paswan effort give refug sikh man riot',\n",
              " 'paswan bodi flown patna cremat today',\n",
              " 'cabinet say paswan oic oppress',\n",
              " 'year later four cop among book rame man drug case',\n",
              " 'banda man kill wife carri head polic station',\n",
              " 'bjp leader shot dead azamgarh',\n",
              " 'yoga enthusiast us rape rishikesh',\n",
              " 'coronaviru highlight recoveri india recoveri rate rise',\n",
              " 'vadodara man book rape talk ood touch bad touch lead polic',\n",
              " 'gujarat alert vessel toxic materi ead alang',\n",
              " 'ezhava commun group slam kerala govt v c appoint',\n",
              " 'maharashtra adequ remdesivir stock shortag patient want cheapest drug say fda offici',\n",
              " 'hal assist supervisor held hare fighter aircraft detail isi',\n",
              " 'himach born captiv six western tragopan releas wild',\n",
              " 'nhrc issu advisori protect women right list sex worker omen work section',\n",
              " 'gujarat covid case per day drop',\n",
              " 'govt modifi salari structur contractu worker nhm',\n",
              " 'covid vaccin candid dr reddi bharat biotech bio e told revis propos human trial',\n",
              " 'two kerala mp write pm modi journalist book uapa',\n",
              " 'rld hold mahapanchayat muzaffarnagar',\n",
              " 'unabl cope wife death man kill minor children hang',\n",
              " 'agricultur dept urg soyabean farmer reus produc seed next season',\n",
              " 'iss papa chirag share childhood pic ram vila paswan announc father demis',\n",
              " 'free media india mea chines embassi taiwan guidelin journalist',\n",
              " 'firebrand socialist voic oppress leader pay tribut ram vila paswan',\n",
              " 'chhattisgarh polic exhum girl bodi month angrap',\n",
              " 'india unsc misus etaliatori intent name innoc civilian terrorist',\n",
              " 'rail roko amritsar farmer rue wagah trade fall govt polici chart',\n",
              " 'centr appoint chief commission gurdwara poll set ball roll',\n",
              " 'yogendra yadav unjab took badal wicket haryana turn bowl chautala',\n",
              " 'ex cbi chief ashwani kumar found dead shimla home',\n",
              " 'stubbl burn season begin sharp spike farm fire',\n",
              " 'yr ia offic death cong spring surpris field wife karnataka bypol',\n",
              " 'bihar elect rjd first list name candid',\n",
              " 'elect commiss reduc number star campaign bihar poll',\n",
              " 'haryana set ine minist fli squad',\n",
              " 'shaheen bagh protest sc order cite mediat report mani influenc',\n",
              " 'kerala gold smuggl case accus appoint knowledg cm ed chargesheet',\n",
              " 'search better life sex worker amaln hone entrepreneuri skill',\n",
              " 'increas use nitrogen fertilis global food product jeopardis climat goal studi',\n",
              " 'sirsa emerg epicentr farmer protest haryana stand polic protest continu',\n",
              " 'inter state bu servic may resum soon lockdown eat expect revenu hp road transport corp',\n",
              " 'indian mom surviv covid deliv babi uae',\n",
              " 'punjab school educ depart announc date talent search examin',\n",
              " 'rhea chakraborti get bail drug case releas byculla jail nearli month',\n",
              " 'farmer consid capt amarind singh appeal eas ail roko',\n",
              " 'haryana rahul say upa scrap farm law throw china vote back',\n",
              " 'mother babi die quack assist deliveri bodi dump outsid clinic',\n",
              " 'edappadi palaniswami aiadmk chief ministeri candid elect',\n",
              " 'telangana agre withdraw case file sc relat share krishna godavari water',\n",
              " 'ex mo dilip ray other convict coal block alloc scam',\n",
              " 'probe order mla test posit attend funer',\n",
              " 'covid manag protocol ayurveda yoga',\n",
              " 'cm pinarayi vijayan say kerala figur better nation averag mani count',\n",
              " 'mamata banerje announc job maoist victim famili jangalmah',\n",
              " 'jaishankar quad meet india commit respect territori integr',\n",
              " 'punjab minist balbir sidhu test covid posit share stage rahul gandhi',\n",
              " 'give free press institut govt last long rahul gandhi',\n",
              " 'xtraordinari shock sc seek respons wit protect hathra case',\n",
              " 'world watch extra care cec bihar poll observ',\n",
              " 'rahul ralli stop larg crowd toler manohar lal khattar',\n",
              " 'sc issu notic plea mp basmati gi tag',\n",
              " 'lakh street vendor line pm loan scheme despit red tape',\n",
              " 'hathra case investig proper part comment say irani',\n",
              " 'bjp mp aid shot victim father point finger rule tmc demand cbi investig',\n",
              " 'man donat plasma six time highest haryana',\n",
              " 'ahead festiv season govt plan awar campaign contain covid',\n",
              " 'rahul gandhi man oreign mental learn nation nationalist bjp mla',\n",
              " 'fresh fir hathra polic claim nternat plot defam yogi govt',\n",
              " 'kerala lotteri today result announc first prize worth rs lakh',\n",
              " 'karnataka develop new cybersecur polici strengthen digitis',\n",
              " 'scenario china get better us iaf chief bhadauria',\n",
              " 'seek justic hathra victim safai karamchari strike agra',\n",
              " 'unnao gangrap murder victim nephew miss polic file abduct case three cop suspend',\n",
              " 'sengar seat bypol congress rais pitch hathra',\n",
              " 'ill seek nod fast track court offici meet balrampur victim famili',\n",
              " 'district countri sever extrem dri condit report imd',\n",
              " 'hathra case bhim armi chief sp rld meet victim famili accus defend bjp leader hous meet',\n",
              " 'punjab polic bust khalistan zindabad forc terror modul arrest',\n",
              " 'mukesh sahni led vip contest seat bihar',\n",
              " 'eprehens editor guild govt prevent media visit hathra villag',\n",
              " 'spike covid case kerala issu prohibitori order',\n",
              " 'day test covid neg jharkhand minist die cardiac arrest',\n",
              " 'new inform dept chief crisi manag two former cm',\n",
              " 'vhp meet novemb discuss campaign ram templ donat',\n",
              " 'rahul tractor ralli punjab cite farmer stir bypass unlock norm',\n",
              " 'bihar elect chirag paswan hail modi seek support ihar first agenda',\n",
              " 'veteran activist scholar pushpa bhave pass away',\n",
              " 'discriminatori rjd manoj jha move sc new farm law',\n",
              " 'oppn also thought improv farm law lack courag pm modi',\n",
              " 'maharashtra govt issu guidelin restaur set reopen',\n",
              " 'imach ka chhokra pm affection refer anurag thakur',\n",
              " 'bihar poll tejashwi announc grand allianc seat share deal congress contest seat',\n",
              " 'previou govt lack courag effect farm reform due poll focuss mindset pm modi',\n",
              " 'meerut yr old rape teen neighbour',\n",
              " 'mango special banana special kisan rail get track',\n",
              " 'bhadohi polic rule rape say year old dalit girl strangl',\n",
              " 'ncb shadow karan johar say inspir pm modi day project',\n",
              " 'hathra rape case fire govt suspend sp order narco test accus victim famili',\n",
              " 'hathra rape case fsl got victim sampl day crime',\n",
              " 'maharashtra domest violenc case year covid talli dip last month',\n",
              " 'gujarat groundnut product estim higher kharif season',\n",
              " 'former trai chairman r sharma differenti digit non digit need converg regul',\n",
              " 'hathra gangrap think harm women self respect destroy say yogi',\n",
              " 'tmc mp bar enter hathra rough polic',\n",
              " 'farmer protest path shown mahatma gandhi success sonia gandhi',\n",
              " 'nia file chargesheet murder chhattisgarh mla mandavi',\n",
              " 'ncrb report sedit case convict time low',\n",
              " 'quad meet focu global order covid',\n",
              " 'babri demolit verdict accus name deposit top offici say could hear speech cite nois dust',\n",
              " 'balrampur victim injuri bodi postmortem report',\n",
              " 'affront right life sc junk gujarat order wage longer hour work',\n",
              " 'bihar elect chirag paswan meet amit shah nda seat formula almost final',\n",
              " 'record high crore household avail nrega sinc april',\n",
              " 'bihar elect loyalti arn lalu prasad rjd readi give congress seat',\n",
              " 'prashant bhushan move sc seek review punish',\n",
              " 'haryana oppos farm law inld protest district octob',\n",
              " 'haryana say chang made procur process eas farmer miller',\n",
              " 'covid case rise kerala ban gather peopl',\n",
              " 'anti tank guid missil success test fire drdo',\n",
              " 'senior cop claim hathra woman rape cite forens report',\n",
              " 'congress rajya sabha mp ahm patel test posit coronaviru',\n",
              " 'minor girl gangrap men madhya pradesh hunt culprit',\n",
              " 'largest contact trace studi india show covid transmit mainli uperspread',\n",
              " 'meticul plan uma bharti took onu justic liberhan babri masjid demolit',\n",
              " 'far justic muslim law board ask cbi appeal babri demolit case order',\n",
              " 'kaprada seat prakash patel throw hat bypol ring independ',\n",
              " 'babri masjid demolit advani joshi uma among clear court say evid',\n",
              " 'rs cr multipl clearanc requir save in viraat',\n",
              " 'odisha pass bill stricter penalti covid rule violat',\n",
              " 'bihar elect succumb anyon attempt finish parti say chirag paswan',\n",
              " 'bihar allianc tri outdo larger share dalit vote',\n",
              " 'babri masjid case congress must apologis conspiraci say yogi adityanath',\n",
              " 'babri masjid case verdict special judg presid trial sinc got extens',\n",
              " 'ovid situat latur district control cfr come pc',\n",
              " 'nhrc advisori patient deni emerg medic care covid non covid condit',\n",
              " 'soybean cotton procur centr start regist farmer today',\n",
              " 'tmc mp nusrat jahan get death threat pose goddess durga seek secur uk trip',\n",
              " 'unlock guidelin cinema hall open state decid school octob',\n",
              " 'bihar creat job agricultur polici narendra singh tomar',\n",
              " 'snc lavalin graft case top court hear cbi appeal pinarayi vijayan discharg',\n",
              " 'mosul back kerala isi man extraordinari brush terror',\n",
              " 'new law like stab farmer heart rahul gandhi',\n",
              " 'astrosat complet year success mission ore scientif discoveri store',\n",
              " 'babri order today dock advani joshi bharti',\n",
              " 'hathra gangrap daughter said want come home consciou thought would surviv',\n",
              " 'harden stanc china reject ladakh ut rais claim line',\n",
              " 'j k power corpor lax supervis behind hydel project delay cag',\n",
              " 'expos covid till august new sero survey',\n",
              " 'maharashtra palghar district alert congo fever',\n",
              " 'iaf fulli resolv counter isadventur eastern ladakh air chief marshal rk bhadauria',\n",
              " 'farmer protest live updat ail roko agit enter sixth day',\n",
              " 'ayodhya trust plan build templ pillar next march finish first floor',\n",
              " 'three kill construct build collaps vadodara',\n",
              " 'need clariti rule land acquisit matter suprem court',\n",
              " 'in viraat reach final port set dismantl',\n",
              " 'eepika padukon question word chat',\n",
              " 'dac nod buy us sig sauer rifl rs crore',\n",
              " 'bangla itmen held plot kill tmc leader polic',\n",
              " 'govt doctor yavatm protest treatment present list demand district collector',\n",
              " 'join farmer protest outsid dushyant chautala hous yogendra yadav',\n",
              " 'covid death report punjab',\n",
              " 'sushant singh rajput death case cbi say aspect rule amid question pace probe',\n",
              " 'jharkhand truck carri liquor bottl hidden sand overturn villag feast',\n",
              " 'maharashtra chief secretari goe home isol test posit covid',\n",
              " 'kerala deni time treatment covid recov pregnant woman lose twin babi govt order probe',\n",
              " 'rhea ki aukaat waiver govt bihar dgp gupteshwar pandey stoop conquer',\n",
              " 'everi sector could decid cost buyer farmer new law give freedom trade narendra singh tomar',\n",
              " 'punjab three bjp leader resign prez sign farm bill',\n",
              " 'polic summon ex dgp saini join probe balwant multani case',\n",
              " 'mohali two minor boy arrest gangrap year old girl',\n",
              " 'bhopal two railway employe held gangrap station premis',\n",
              " 'terrorist j k hide bunker toilet season stream evad secur forc',\n",
              " 'serum institut ceo pm modi covid vaccin vision arrang take care need indian',\n",
              " 'statu periyar found smear saffron dye',\n",
              " 'farmer play major role build aatmanirbhar bharat say pm modi',\n",
              " 'lac hope reced armi readi troop winter deploy',\n",
              " 'respect isher command econom world strike',\n",
              " 'surat two held rs cr ban drug seizur case',\n",
              " 'gujarat at arrest man accus print counterfeit currenc',\n",
              " 'cag report tilis certif worth rs crore submit gujarat govern',\n",
              " 'strong push public school india say amartya sen nep',\n",
              " 'woman drug rape bu meerut cop',\n",
              " 'fourth accus held hathra gangrap case',\n",
              " 'mathura civil suit seek remov mosqu rishna birthplac',\n",
              " 'notic uttarakhand mla arnish govt imag',\n",
              " 'kerala lotteri today result announc first prize worth rs lakh',\n",
              " 'spiritu guru vedic ashram die mortal remain flown india last rite',\n",
              " 'lesbian coupl seek polic protect famili threat',\n",
              " 'suit mathura court seek ownership krishna janmabhoomi land remov idgah masjid',\n",
              " 'aligarh bjp leader stage protest woman file arass complaint',\n",
              " 'adityanath rs lakh aid kin mediaperson die covid',\n",
              " 'china pakistan mind pm spell india prioriti unga today',\n",
              " 'colleg student school dropout women lead farm protest punjab',\n",
              " 'onlin nomin mask phase vote bihar covid elect',\n",
              " 'top court examin case anchor amish devgan need investig',\n",
              " 'p balasubrahmanyam sang gener hero rememb gener',\n",
              " 'co oper sector leader suicid surat suspend cop arrest highway maharashtra',\n",
              " 'j k polic announc sit probe kill advoc babar qadri srinagar',\n",
              " 'j k two let milit kill gunfight anantnag villag injur blast site',\n",
              " 'one sub inspector injur vadodara polic arrest attack cop',\n",
              " 'helm protest punjab farmer daughter secur guard daughter class ix dropout',\n",
              " 'covid posit pregnant women asymptomat studi',\n",
              " 'surat ksg member detain farm bill protest',\n",
              " 'farmer stage protest across countri new farm bill stir set intensifi',\n",
              " 'subsidi eat resourc punjab may run agri tube well solar power',\n",
              " 'suspend oxygen suppli issu jammu hospit',\n",
              " 'ant justic justic son kill bdc chairman budgam',\n",
              " 'aatmanirbhar scheme gujarat govt express inabl give detail say affect covid fight',\n",
              " 'blast trigger fire ongc plant surat',\n",
              " 'crime women cm ask offici put name shame poster',\n",
              " 'tamil nadu cm palaniswami seek fund fight pandem',\n",
              " 'nuclear scientist sekhar basu succumb covid',\n",
              " 'maharashtra govt cap rate hrct test',\n",
              " 'kerala add covid case two day cm say situat grave',\n",
              " 'slow reach farmer villag level meet oct bjp kisan morcha',\n",
              " 'featur time list bilki say would happier demand met',\n",
              " 'readi lead fight farm bill say capt amarind singh',\n",
              " 'farmer begin day ail roko punjab train servic take hit',\n",
              " 'boost haryana agit farmer get support bjp leader former mla',\n",
              " 'telangana polic alert maoist attempt reestablish base',\n",
              " 'sasikala write bengaluru prison offici request reveal detail releas',\n",
              " 'kerala state lotteri today result announc first prize worth rs lakh',\n",
              " 'journalist pradeep bhandari assault mumbai',\n",
              " 'ncb probe kangana said took drug bjp leader',\n",
              " 'gujarat manavadar get riverfront',\n",
              " 'man detain onfin rape employe',\n",
              " 'gujarat horticultur offic aught take bribe rs',\n",
              " 'vadodara mp oppos make build overlook pratap vila palac',\n",
              " 'gldc offici book disproportion asset case rs crore account',\n",
              " 'got offer rule parti met anyon last month eknath khads',\n",
              " 'maharashtra amid cash crunch govt issu rs crore guarante sugar mill',\n",
              " 'labour strike lockout pepsico close product unit kerala',\n",
              " 'day year old die kin say eaten death suspicion theft',\n",
              " 'laxmi vila hotel case rajasthan hc stay arrest warrant arun shouri',\n",
              " 'seat atop tractor navjot singh sidhu lead protest march agri bill',\n",
              " 'poll run echo bihar lok sabha',\n",
              " 'session rancour end prematur battl farm bill set continu',\n",
              " 'monsoon session oppn boycott rajya sabha pass bill less hour',\n",
              " 'punjab cabinet nod reform vigil commiss year scrap',\n",
              " 'rajya sabha pass fcra amend bill',\n",
              " 'eed assess local lockdown effect contain covid pm modi state',\n",
              " 'water qualiti ganga four major river deterior lockdown cpcb report',\n",
              " 'innoc subject witch hunt rhea chakraborti bail plea',\n",
              " 'mehbooba mufti daughter move sc seek amend plea continu detent mother',\n",
              " 'patiala badal villag akka morcha lift let union footsoldi focu sept bandh',\n",
              " 'interview haryana bku chief ushyant chautala snap tie alli bjp',\n",
              " 'punjab mandi unrest includ labour ovt play live lakh',\n",
              " 'ideolog set asid punjab farmer group come togeth protest agri bill first',\n",
              " 'farmer anger bill base misunderstand dushyant chautala',\n",
              " 'amend bill pass gujarat assembl sexual offend cyber crimin face pasa',\n",
              " 'opposit parti boycott lok sabha solidar suspend rs mp',\n",
              " 'surat dhanvantri rath driver end strike assur payment',\n",
              " 'onion potato cereal essenti commod list amend bill pass',\n",
              " 'four labour bill pass gujarat assembl easier small firm lay worker',\n",
              " 'mathura boy tri enter girl hous midnight eaten death',\n",
              " 'uddhav thackeray govt declar sop maratha youth',\n",
              " 'bjp mediat aiadmk sasikala hold talk merger',\n",
              " 'sheena bora murder case approv shyamvar rai bail reject',\n",
              " 'ladakh polit religi leader call boycott elect lahdc leh',\n",
              " 'kerala cop test posit covid cm blame opposit protest',\n",
              " 'karnataka bjp strongli refut report chang bs yediyurappa cm',\n",
              " 'parliament session day oppn boycott lok sabha rajya sabha pass key bill three hour',\n",
              " 'illeg mine case himach hc summon mandi mine offic',\n",
              " 'pm modi visit countri sinc expenditur rs crore govt',\n",
              " 'sushil modi nda gave reserv sc st panchayat elect',\n",
              " 'ap launch new app integr servic includ lodg complaint onlin check fake news',\n",
              " 'opposit boycott rajya sabha till hree demand met suspend mp end sit protest',\n",
              " 'sad deleg meet presid urg sign farm bill',\n",
              " 'oppn mp suspend nruli behaviour rs',\n",
              " 'nia claim arrest key let fund man arriv gulf',\n",
              " 'mahoba gangster arrest businessman murder',\n",
              " 'bid assur msp six crop bjp tell mp spread word',\n",
              " 'flood impact kerala soil prone eros say new studi',\n",
              " 'chhattisgarh bhupesh baghel inaugur airport lwe affect jagdalpur',\n",
              " 'maharashtra day deliv stillborn babi doctor die covid',\n",
              " 'akali dal stand interest farmer fadnavi',\n",
              " 'onion price touch new high trader rule immedi import',\n",
              " 'mute democrat india continu congress rajya sabha mp suspens',\n",
              " 'indian citizenship grant pakistani afghan bangladeshi last year',\n",
              " 'coronaviru india updat sept recoveri rate cross mark school reopen student j k',\n",
              " 'farm bill eed st centuri india say pm modi amid protest',\n",
              " 'tablighi jamaat event caus coronaviru spread person mha',\n",
              " 'maharashtra covid case cross mark across state jail',\n",
              " 'person involv al qaeda conspiraci nia',\n",
              " 'encourag use marathi govt set committe submit draft rule amend law',\n",
              " 'us court lift stay deva plea compens cancel deal',\n",
              " 'sign farm bill sukhbir badal urg presid',\n",
              " 'two jjp mla join haryana farmer protest one say eadi resign peopl ask',\n",
              " 'rajya sabha rucku rajnath term oppn conduct hame congress call nti farmer day',\n",
              " 'restrict movement individu j k govt',\n",
              " 'farmer intensifi protest water cannon use stop congress activist enter haryana',\n",
              " 'rs pass amend insolv code govt say prioriti keep compani grow rather liquid',\n",
              " 'epidem diseas amend bill pass govt formul nation public health law say minist',\n",
              " 'ysrcp mp call parti govt andhra nti hindu face disqualif',\n",
              " 'anurag thakur say pmnrf gandhi famili aagir',\n",
              " 'mahua moitra take pm care corpu psu donat',\n",
              " 'parliament session day ls clear taxat bill fierc debat pm care fund',\n",
              " 'govt propos allow co less worker fire staff without nod',\n",
              " 'union minist jaishankar mother pass away',\n",
              " 'lok sabha pass taxat bill',\n",
              " 'centr approv new medic colleg godhra',\n",
              " 'start recruit vacant post month cm',\n",
              " 'contenti bill slate rajya sabha centr talk non congress opposit parti',\n",
              " 'protest farm bill debt hit farmer die suicid badal villag',\n",
              " 'bill anti farmer help rich mayawati akhilesh',\n",
              " 'bsi say await bjp nod go ahead cabinet expans',\n",
              " 'glacier retreat himalaya caus water crisi studi',\n",
              " 'rajasthan congress leader test covid posit held violat quarantin',\n",
              " 'block movement suppli oxygen mha tell state',\n",
              " 'elvi gome quit aap goa convenor say work grassroot level',\n",
              " 'uttar pradesh polic add sedit case aap mp sanjay singh',\n",
              " 'burger singh open outlet gujarat',\n",
              " 'naga peac talk nscn im reiter demand separ flag constitut',\n",
              " 'liquor mafia oper punjab polit patronag centr probe say dullo',\n",
              " 'punjab haryana farmer oppos new agricultur bill face hate social media',\n",
              " 'pm modi inaugur kosi rail mahasetu slew rail project bihar slam slow progress upa',\n",
              " 'parliament highlight sitharaman take dig cong say launch mgnrega one thing use effect anoth',\n",
              " 'last day offic goa lokayukta start proceed bjp mla',\n",
              " 'punjab haryana hc stay appoint chairperson ub pu',\n",
              " 'covid india mortal rate lowest govt aim bring per cent say health minist',\n",
              " 'agricultur minist target oppn say upa year approv swaminathan recommend',\n",
              " 'odisha seek rs crore central aid flood damag',\n",
              " 'first jharkhand get social audit team boost nrega work demand',\n",
              " 'bihar elect jdu look contest seat want bjp fight accommod ljp',\n",
              " 'eepli concern onion export ban bangladesh india',\n",
              " 'pdp leader naeem akhtar releas hous detent',\n",
              " 'indian citi drop global smart citi index singapor top',\n",
              " 'odisha enrag tortur two minor son kill mother',\n",
              " 'parliament highlight lok sabha pass two contenti farm bill voic vote',\n",
              " 'ecid case legisl within year amicu report sc',\n",
              " 'govt talk china dialogu kashmir ask pdp youth wing',\n",
              " 'sc order fresh probe death nlu jodhpur student',\n",
              " 'protest sopor ustodi death parti seek action',\n",
              " 'sc stay maratha quota govt take decis day two say cm',\n",
              " 'high drama mla hostel teacher threaten die suicid jalna',\n",
              " 'slain kerala soldier day away leav',\n",
              " 'state rivalri play lok sabha rais heat covid hit session',\n",
              " 'lok sabha pass bill bring cooper bank rbi supervis',\n",
              " 'wider consult requir uniform civil code govt',\n",
              " 'gujarat mp abhay bharadwaj put artifici lung support paatil recov covid',\n",
              " 'polic launch search remain uttarakhand flood victim',\n",
              " 'india tie china neighbour countri deterior mo mea',\n",
              " 'parliament session day lac row domin proceed bank regul amend bill pass',\n",
              " 'kerala lotteri today result announc first prize worth rs lakh',\n",
              " 'unjab mp support farm bill bar villag',\n",
              " 'women borrow punjab close rank demand loan waiver micro financ co',\n",
              " 'congress new punjab affair incharg meet capt jakhar mif parti mp',\n",
              " 'madhya pradesh congress remov mohan aggarw role pd scam',\n",
              " 'indian immunolog talk manufactur russia sputnik v ot paramet consid',\n",
              " 'ex facebook staffer say sophist network oper influenc delhi poll',\n",
              " 'custom refus allow consign sent abroad export fix',\n",
              " 'nia arrest key accus vizag espionag case gujarat',\n",
              " 'karnataka move amend fiscal act facilit borrow gspd',\n",
              " 'sgpc task forc rough protest outsid offic punjab minist term einou crime',\n",
              " 'covid reinfect rare matter concern icmr dg',\n",
              " 'absolut shortag medic oxygen nation level health secretari',\n",
              " 'case lawmak special law pend differ state sc told',\n",
              " 'ordin discuss even punjab made member committe amarind singh',\n",
              " 'haryana farmer refus paus dharna talk centr today',\n",
              " 'india corrupt movement aap prop rss bjp bring upa govt rahul',\n",
              " 'drug case ncb arrest two held far',\n",
              " 'parliament monsoon session day pandem issu prevail proceed',\n",
              " 'rape convict teacher taken cbi offic gandhinagar',\n",
              " 'cloth grain market join rajkot jewel voluntari lockdown',\n",
              " 'air rail road travel enter rajkot citi randomli test',\n",
              " 'nda candid harivansh elect rajya sabha deputi chairman',\n",
              " 'rajnath singh like make statement parliament sino india issu',\n",
              " 'dismantl encroach without decis taken jointli urban develop ministri delhi govt railway',\n",
              " 'parliament session day harsh vardhan speak covid situat govt introduc three farm sector bill',\n",
              " 'kerala experi water taxi octob first one alappuzha backwat',\n",
              " 'around mp test posit covid far sourc',\n",
              " 'express investig modi govt awar chines surveil ask congress',\n",
              " 'kerala lotteri today result announc first prize rs lakh',\n",
              " 'ur valu recognis sex marriag centr tell delhi hc',\n",
              " 'kangana ranaut say leav mumbai call pok analog ang',\n",
              " 'hope parliament send messag countri stand behind soldier guard border pm modi',\n",
              " 'mahoba businessman die suspend sp face murder charg',\n",
              " 'p expressway provid faster road connect delhi benefit north india',\n",
              " 'bjp campaign kangana support trigger specul kin shift allegi',\n",
              " 'peopl eat restaur food next day mostli home deliv survey',\n",
              " 'got mail height kargil',\n",
              " 'pm modi pat nitish kumar good govern take dig lalu prasad',\n",
              " 'fear shortag medic oxygen punjab appoint nodal offic across district monitor suppli',\n",
              " 'go sc need protest maharashtra cm maratha quota row',\n",
              " 'crpf jawan kill wife shoot jammu',\n",
              " 'ibe gift citi ifsca sign mou india gold polici centr iim',\n",
              " 'taliban afghan deal tabl delhi signal shift attend doha meet',\n",
              " 'new covid case gujarat talli cross lakh death toll',\n",
              " 'judg seen soft target victim juici gossip justic ramana',\n",
              " 'rural distress loom dip crop price remitt rise covid case',\n",
              " 'maratha kranti morcha deleg meet governor',\n",
              " 'pm modi return migrant help cut time taken build pmay hous',\n",
              " 'centr discuss plan distribut covid vaccin',\n",
              " 'bihar elect nadda meet nitish kick discuss seat share',\n",
              " 'chhattisgarh man maul death bear surajpur district',\n",
              " 'wait period hour approach announc polit solut naga group',\n",
              " 'civic bodi object ignor push work carv illeg coloni hoshiarpur',\n",
              " 'bihar poll jp nadda nitish kumar hold talk seat share feud chirag paswan',\n",
              " 'sand mine within km nation highway half km state highway punjab hc',\n",
              " 'truck kg pistachio rob kutch',\n",
              " 'gold smuggl case ed question kerala minist oppn demand resign',\n",
              " 'hous panel bat virtual court even pandem',\n",
              " 'delhi hc say stay broadcast sudarshan programm',\n",
              " 'congress organis reshuffl give take sonia gandhi leav side atisfi',\n",
              " 'tep gain trust j k l g launch grievanc redress portal',\n",
              " 'bihar elect stand firmli chirag decis say ram vila paswan',\n",
              " 'maratha reserv ag say step asid demand group former govt lawyer accus show court',\n",
              " 'corner bjp tmc hit street gst due',\n",
              " 'medic equip purchas cam three member inquiri panel eyewash order judici probe dhankhar',\n",
              " 'rajasthan govt plan auster measur wake revenu shortag',\n",
              " 'write cm request job back kafeel khan',\n",
              " 'senior scientist question devic claim kill coronaviru close space',\n",
              " 'find solut problem face youth rahul govt',\n",
              " 'senior lawyer design sc agre hear plea implement verdict guidelin',\n",
              " 'fir peopl clash polic ballia',\n",
              " 'niti aayog seek feedback data empower protect architectur draft',\n",
              " 'rajasthan govt revis rate covid treatment privat hospit',\n",
              " 'bjp zafar islam elect unoppos rs',\n",
              " 'bypol held around time bihar elect ec',\n",
              " 'women cop help stop j k youth go astray pm modi',\n",
              " 'bihar poll run amid rjd flood focu jd u hope rs cr relief address anger',\n",
              " 'rajnath singh china defenc minist talk foreign secretari say situat unpreced sinc',\n",
              " 'armi chief counter china indian action along lac situat tens troop prepar',\n",
              " 'gujarat confidenti tweet troubl',\n",
              " 'excess rain roundnut soybean crop fail state govt compens farmer loss paresh dhanani',\n",
              " 'three minor girl among famili found dead dahod apart',\n",
              " 'haryana women panel document women achiev state',\n",
              " 'concern covid spread rural area rise case race past lakh mark',\n",
              " 'hizbul tri reestablish base north kashmir armi',\n",
              " 'teacher day kerala cm pinarayi vijayan recal teacher told mother',\n",
              " 'saharanpur teen rape victim end life two held',\n",
              " 'inimum govern maximum privatis congress slam job freez',\n",
              " 'bjp announc member steer panel bihar poll',\n",
              " 'eas busi hp jump place top',\n",
              " 'drill machin map groundbreak groundwork ayodhya templ begin',\n",
              " 'ahead poll bihar bjp cultur wing releas poster seek ustic sushant singh rajput',\n",
              " 'coronaviru india updat septemb central team assist punjab chandigarh reduc mortal rate',\n",
              " 'wooden chariot famou templ ap gut fire',\n",
              " 'fir dehradun bjp mla rape case',\n",
              " 'defenc minist rajnath singh discuss bilater tie region secur iranian counterpart',\n",
              " 'mahapanchayat ove jihad postpon',\n",
              " 'lakhimpur kheri ex mla die clash two arrest co remov',\n",
              " 'bhu student ut submit document miss sinc august probe',\n",
              " 'break covid surg four district push infect curv time high',\n",
              " 'pangong boil china claim india fire warn shot',\n",
              " 'eas busi better law order behind leap say polic',\n",
              " 'messag beij ram madhav tibetan unit soldier funer',\n",
              " 'gorakhpur get new covid hospit case rise',\n",
              " 'join legal battl free templ varanasi mathura akhara parishad',\n",
              " 'die landmin blast patrol special frontier forc tibetan commando laid rest',\n",
              " 'manmohan singh upa criticis select project impact wildlif',\n",
              " 'drdo success flight test hyperson technolog vehicl',\n",
              " 'kerala health offici allegedli rape woman need covid neg certif arrest',\n",
              " 'express e adda nation domin featur post covid world say jaishankar',\n",
              " 'miss arunach youth found chines side handov process underway kiren rijiju',\n",
              " 'rhea held ncb say got rajput drug consumpt',\n",
              " 'rhea chakraborti bail plea reject judici custodi till sept',\n",
              " 'india coronaviru updat septemb prescript mandatori test delhi report new case',\n",
              " 'chardham project follow circular highway ministri say sc',\n",
              " 'rajasthan cm gehlot suspend meet month mani staff test posit',\n",
              " 'five miss arunach trace pla confirm indian armi',\n",
              " 'jaishankar meet iran counterpart discuss chabahar afghanistan',\n",
              " 'ran kitchen coimbator woo diner biryani',\n",
              " 'coronaviru highlight serum institut paus india trial oxford vaccin',\n",
              " 'halt astrazeneca trial india',\n",
              " 'prayagraj ssp suspend govt cite orrupt charg rise crime',\n",
              " 'taj mahal reopen month cap daili visitor',\n",
              " 'rhea chakraborti arrest ndp act udicr congress adhir ranjan chowdhuri',\n",
              " 'kangana tell cm uddhav go crush hc frown upon bmc intent demolit work',\n",
              " 'himach fare better state tackl pandem jai ram thakur',\n",
              " 'rafal jet formal induct indian air forc today',\n",
              " 'hc suspend bailabl warrant tejpal rape victim trial court',\n",
              " 'ex punjab dgp bail plea reject hc say saini law unto could stifl probe murder',\n",
              " 'chhattisgarh man kill rossfir polic madhya pradesh',\n",
              " 'letter modi decad ago window ambit anxieti',\n",
              " 'case pend sit former legisl',\n",
              " 'first time sinc centr allow foreign donat golden templ',\n",
              " 'moga khalistan flag hoist tricolour desecr case nia take probe mha order file case',\n",
              " 'punjab polic get social media account block',\n",
              " 'rafal jet induct highlight rafal induct import given situat border say rajnath',\n",
              " 'west bengal state record case',\n",
              " 'bihar elect raghuvansh prasad singh quit rjd emot lalu ask stay back parti',\n",
              " 'bottom pile jharkhand rise covid test chart',\n",
              " 'pm modi launch matsya sampada yojana say scheme doubl fish export year',\n",
              " 'odisha two sog commando five maoist kill kalahandi encount',\n",
              " 'maratha quota uddhav meet pro quota organis lawyer expert today',\n",
              " 'highlight resum covid vaccin trial dcgi nod say serum institut',\n",
              " 'jaishankar wang agre let keep talk quickli disengag eas tension along lac',\n",
              " 'nashik man face financi woe enter bank knife demand money arrest',\n",
              " 'ordin interest farmer unless guarante msp crop hooda',\n",
              " 'fazilka waterlog meet held make arrang pump water sukhbir clap back congress',\n",
              " 'rison like atmospher tagor famili write mamata visva bharati author',\n",
              " 'vvip chopper case cbi seek sanction prosecut former defenc secretari shashi kant sharma',\n",
              " 'manoj jha file nomin rajya sabha dy chairman post',\n",
              " 'five miss youth arunach like hand china tomorrow rijiju',\n",
              " 'drug case polic custodi kannada actor ragini dwivedi sanjjana galrani extend till sep',\n",
              " 'leh administr bodi seek protect indigen right',\n",
              " 'filipino tablighi jamaat member discharg court',\n",
              " 'telangana record highest posit rate among health staff',\n",
              " 'india propos g principl cross border movement',\n",
              " 'haryana power dept corrupt offici run unda raj say jjp tohana mla',\n",
              " 'india russia finalis ak rifl deal report',\n",
              " 'covid brigad kerala build human resourc combat spike',\n",
              " 'pm modi underlin india low covid death say situat demand fresh mindset',\n",
              " 'himach minist test covid posit day ahead monsoon session',\n",
              " 'ban violat hate speech polici bjp mla raja singh claim facebook sinc',\n",
              " 'punjab per day covid fatal nearli doubl hour minist blame late arriv',\n",
              " 'gst row mamata claim etray karnataka opt special window',\n",
              " 'block page point facebook bjp link derek brien mark zuckerberg',\n",
              " 'pm narendra modi twitter account hack ohn wick',\n",
              " 'delhi high court refus stay gunjan saxena biopic',\n",
              " 'maharashtra govt transfer senior ip offic',\n",
              " 'behind india th doubl hand transplant fear lot hope',\n",
              " 'rajnath like visit moscow septemb may meet chines counterpart',\n",
              " 'enter hous ask take covid test',\n",
              " 'curtail question hour congress lok sabha leader adhir tell speaker',\n",
              " 'pettimudi underlin kerala petri dish climat chang reckless develop',\n",
              " 'gold smuggl case cpm say bjp leadership explain stand issu',\n",
              " 'chidambaram jibe sitharaman fm esseng god describ economi covid',\n",
              " 'odisha ganjam ride covid curv contact trace test',\n",
              " 'rajasthan employ migrant uncertain go back restart busi',\n",
              " 'seaplan servic gujarat begin octob',\n",
              " 'unicef partner maha govt ngo provid covid support',\n",
              " 'govt amend pasa act includ cyber crime sexual harass',\n",
              " 'unlock full guidelin issu differ state',\n",
              " 'mann ki baat fresh atma nirbhar bharat push modi say time vocal toy',\n",
              " 'yamuna flow close warn mark',\n",
              " 'coronaviru india updat august record lakh test day take total past crore',\n",
              " 'kerala man commit suicid psc rank list expir appoint',\n",
              " 'critic patient get free covid treatment privat hospit ashok gehlot',\n",
              " 'tamil nadu relax curb e pass within state mall reopen',\n",
              " 'haryana report new case death',\n",
              " 'daili case scale record peak govern hope reflect massiv test',\n",
              " 'post matric scholarship scheme punjab centr fail releas scholarship fund colleg hold student ransom',\n",
              " 'punjab cm true saviour paani jawaani kisaani say ex minist',\n",
              " 'first time year shetrunji bhadar dam overflow simultan',\n",
              " 'govern ask count brahmin gun licenc backtrack',\n",
              " 'surat civic bodi collect record tax rs crore tax singl day',\n",
              " 'amr sp cop caught steal power ask vacat quarter',\n",
              " 'narmada dam see cutback inflow area ankleshwar flood evacu',\n",
              " 'gujarat cong slam state govt centr unemploy',\n",
              " 'gujarat new unda act deal anti social element',\n",
              " 'ed seek inspect new record case capt son',\n",
              " 'haryana pay power bill post offic',\n",
              " 'rajeev kumar replac ashok lavasa elect commission',\n",
              " 'unlock begin haryana record biggest singl day spike death case',\n",
              " 'cartoon charact shinchan name appear bengal colleg merit list',\n",
              " 'indian scientist find higher viral load asymptomat covid patient',\n",
              " 'pranab mukherje death huge loss sino india friendship china',\n",
              " 'moga villag pass resolut ovid patient treat villag',\n",
              " 'poll panel pass major order kc mani symbol lavasa dissent',\n",
              " 'militari move rais fear escal along lac',\n",
              " 'faction rajasthan congress maken',\n",
              " 'four senior pdp leader seek permiss meet mehbooba mufti',\n",
              " 'four held steal motorbik rajkot',\n",
              " 'karnataka pub club bar serv liquor septemb',\n",
              " 'pranab mukherje erudit politician constitut purist congress troubleshoot',\n",
              " 'utstand parliamentarian tower statesman pm modi rememb pranab mukherje',\n",
              " 'former presid pranab mukherje pass away pm modi presid kovind express condol',\n",
              " 'pranab mukherje time mp minist prime minist twice almost pm',\n",
              " 'elgaar parishad case famili member accus lawyer hold virtual meet',\n",
              " 'villag pradhan two offici book bjp mla alleg cow death govt shelter',\n",
              " 'ncrb data higher share dalit tribal muslim prison number outsid',\n",
              " 'china russia militari exercis india opt cite pandem',\n",
              " 'kerala mp call tharoor uest artist congress olit matur',\n",
              " 'neet jee main minist opposit rule state move sc seek review ryptic order',\n",
              " 'ealthi bless patient unseen hospit staff covid job nobodi want',\n",
              " 'haryana latest guidelin mall shop shut monday tuesday offic weekend',\n",
              " 'pranab mukherje still deep coma haemodynam stabl doctor',\n",
              " 'arvind kejriw say check oxygen level peopl everi villag street punjab',\n",
              " 'maharashtra acr aarey land near nation park earmark forest',\n",
              " 'parliament panel iscuss facebook continu shashi tharoor',\n",
              " 'sever norm convent sidestep select new v c nagpur univers',\n",
              " 'odi made disast rahul gandhi slam centr gdp nosed covid surg',\n",
              " 'kafeel khan govt stubborn like child frame anoth case',\n",
              " 'babri trial conclud judgment month',\n",
              " 'bir devind sorri capt isconceiv understand feder',\n",
              " 'punjab polic form sit day suresh raina uncl kill day cousin die',\n",
              " 'gujarat state see fresh case k sampl test',\n",
              " 'rajkot hingolgadh sanctuari develop tourism spot kunvarji bavaliya',\n",
              " 'gujarat govt regularis illeg drink water connect urban area',\n",
              " 'fight drug sirsa take help anganwadi worker ex militari men',\n",
              " 'death toll air india express flight crash rise',\n",
              " 'bihar elect bjp leader begin day virtual strategi meet today',\n",
              " 'indian nation arrest million h b visa fraud',\n",
              " 'ayush secretari say non hindi particip leav meet spark row',\n",
              " 'bsf kill five intrud pak punjab border',\n",
              " 'rajasthan assembl pass bill bjp stage walkout deputi lop confront speaker',\n",
              " 'suspend two dig rank offic orrupt act',\n",
              " 'ralli behind sonia rahul cwc slam letter spirit',\n",
              " 'congress crisi fire dissent stand firm later dial wait watch',\n",
              " 'militari option tabl lac talk fail gen rawat',\n",
              " 'lac crisi jaishankar wang yi like discuss step moscow next month',\n",
              " 'top court say state make categori sc st depriv',\n",
              " 'narmada dam power gener begin water level cross metr',\n",
              " 'rajkot acket defraud us citizen bust detain',\n",
              " 'covid strait island alert andaman impact member great andamanes',\n",
              " 'crop insur restor state share premium uddhav thackeray tell centr',\n",
              " 'left parti like allianc rjd bihar poll',\n",
              " 'sc court order sub classifi sc st jdu say order vindic bjp wari rjd want data',\n",
              " 'coronaviru august updat local lockdown outsid contain zone without consult centr mha tell state',\n",
              " 'kartarpur corridor pakistani team survey ravi overbridg indian side',\n",
              " 'pm modi commit self suffici defenc product limit talk paper',\n",
              " 'nli way world escap pandem kerala man uae describ part vaccin trial',\n",
              " 'shiv sena hit congress leader wrote letter sonia gandhi',\n",
              " 'pdp leader detain tri take protest march detent kashmiri',\n",
              " 'jitan ram manjhi meet nitish kumar amid specul return nda',\n",
              " 'readi wait issu address will panel chart way ghulam nabi azad',\n",
              " 'opposit cm say move suprem court seek neet jee defer',\n",
              " 'coronaviru vaccin doctor phd candid get first shot oxford trial start pune',\n",
              " 'uddhav thackeray power concentr one hand mean state govt',\n",
              " 'haryana assembl monsoon session last minut',\n",
              " 'revenu state centr concern toppl govt gehlot',\n",
              " 'solicitor gener turn plea allow contempt case swara bhasker',\n",
              " 'learn work home beekeep train goe onlin',\n",
              " 'defenc seem bent upon delay babri mosqu demolit trial cbi court',\n",
              " 'pnb scam accus mehul choksi move hc netflix ad boy billionair documentari',\n",
              " 'gst compens neet jee exam mamata sonia uddhav said oppn meet',\n",
              " 'bjp mp ask shashi tharoor cancel panel meet g j k',\n",
              " 'karnataka covid wrap yediyurappa launch infosi foundat fund bengaluru broadway hospit recoveri cross lakh mark',\n",
              " 'rule law sc panel chief govt char dham iolat',\n",
              " 'woman arrest offens video hindu deiti prayagraj',\n",
              " 'gst set meet sushil modi say centr moral bound pay state',\n",
              " 'mahad build collaps time warn two th floor resid help save mani live',\n",
              " 'mahad build collaps uild start develop crack three year construct',\n",
              " 'gir lioness collarwali litter die amr',\n",
              " 'nagpur civic chief test posit district covid toll cross',\n",
              " 'cotton crop peril abohar damag acreag like rise',\n",
              " 'gujarat govt appeal recoveri compens atroc case',\n",
              " 'amid concern cm meet progress agri reform',\n",
              " 'bengaluru project top court ask builder compens flat owner ross delay',\n",
              " 'month start oper punjab first plasma bank manag donor',\n",
              " 'captain amarind singh hail cwc resolut question dissent',\n",
              " 'congress work committe meet nanim resolv strengthen hand sonia rahul gandhi',\n",
              " 'hour rescu uttarakhand itbp team carri injur woman km',\n",
              " 'order irdwari assess damag cotton crop sukhbir singh badal cm',\n",
              " 'haryana covid toll cross six vidhan sabha staff among new case',\n",
              " 'face dissent within sonia offer quit set choru support rahul',\n",
              " 'day kurien say intent behind letter sonia gandhi strengthen parti',\n",
              " 'sushant singh rajput case ddhav never interfer issu law order aaditya target say sanjay raut',\n",
              " 'medic council come pandem manag modul undergrad student',\n",
              " 'rajasthan receiv rs cr cow protect surcharg year govt',\n",
              " 'kapil mishra launch bloomsburi india scrap book riot',\n",
              " 'ur focu creat demand histori prove resili tourism prahlad patel',\n",
              " 'state see record new covid case lucknow remain worri',\n",
              " 'arrest meerut held dupe peopl rs cr fake franchis',\n",
              " 'aven met famili month talk grandchild video call k k shailaja',\n",
              " 'chines firm sole foreign bidder railway cancel tender vand bharat trainset',\n",
              " 'book bjp chief violat covid norm saurashtra tour congress',\n",
              " 'freedom speech extend social media vinod dua sc',\n",
              " 'jdu bjp welcom ec guidelin ahead bihar poll',\n",
              " 'indian man sentenc life prison rape murder london',\n",
              " 'ahead bihar poll ec issu guidelin conduct elect covid',\n",
              " 'air india passeng test posit covid till thursday hong kong govt',\n",
              " 'pranab mukherje remain haemodynam stabl ventilatori support hospit',\n",
              " 'coronaviru india updat august case fatal rate drop institut isol must plu patient mumbai',\n",
              " 'suprem court urg rethink prashant bhushan stand firm apolog duti futur',\n",
              " 'leauva patel leader receiv state bjp chief khodaldham',\n",
              " 'lac border mechan meet fail make headway disengag',\n",
              " 'farooq hold person meet nc leader say parti meet soon',\n",
              " 'surat textil factori fli migrant worker home state',\n",
              " 'congress reach dalit brahmin friction come fore',\n",
              " 'hous dept lukewarm reform propos jitendra awhad expedit slum redevelop project',\n",
              " 'ashwani kumar e cannot anchor strategi say wrong bjp',\n",
              " 'swachh survekshan indor name cleanest citi th year row',\n",
              " 'nepal propos meet boundari work group septemb',\n",
              " 'kerala held kill pregnant wild bison',\n",
              " 'manjhi ham quit grand allianc bihar ahead poll',\n",
              " 'ladakh border row india china agre resolv outstand issu xpediti manner say mea',\n",
              " 'govt charg passeng higher aviat secur fee sept',\n",
              " 'prashant bhushan sc would insincer apologis tweet xpress bona fide belief',\n",
              " 'dhaka rais concern ise kill border bsf indian nation',\n",
              " 'smc begin screen citi entri exit point',\n",
              " 'gujarat hc take record yatin oza behaviour align court',\n",
              " 'year old student held ack gtu portal steal leak data',\n",
              " 'centr set withdraw paramilitari troop jammu kashmir',\n",
              " 'msrtc buse resum inter district oper today',\n",
              " 'crore household commun toilet construct rural area sinc centr bombay hc',\n",
              " 'maharashtra provid labour facil face action govt tell builder',\n",
              " 'maharashtra sugar mill want state govt buy power higher rate',\n",
              " 'congress leader call use tech particip monsoon session',\n",
              " 'railway mull health insur cover employe',\n",
              " 'india china expect hold anoth round diplomat talk thursday',\n",
              " 'bihar govt provid rs lakh job famili crpf jawan kill milit attack',\n",
              " 'remark leadership made last year worker want rahul return parti chief cong',\n",
              " 'jaishankar hold talk afghan foreign minist discuss peac process',\n",
              " 'vika dubey encount case sc dismiss plea justic retd b chauhan led panel',\n",
              " 'presid accept ashok lavasa resign elect commission',\n",
              " 'pranab mukherje health declin son abhijit say father tabl',\n",
              " 'sushant singh rajput death case sc order cbi probe ask maharashtra assist',\n",
              " 'madhya pradesh minist test posit covid fifth chouhan cabinet',\n",
              " 'milit behind bjp leader kill shot dead baramulla',\n",
              " 'visva bharati seek cbi probe rucku wall want fir v c withdrawn',\n",
              " 'rave parti vagat sunburn klassiqu co promot arrest',\n",
              " 'j k acb file chargesheet hoteli revenu offici',\n",
              " 'bjp faction closer rss tri take advantag bengaluru violenc toppl bsi siddaramaiah',\n",
              " 'eye sky ninja drone protect rail asset',\n",
              " 'pm modi announc result cleanli survey wachh survekshan thursday',\n",
              " 'complet transpar pm care fund manag bjp hit back rahul gandhi',\n",
              " 'covid elect commiss frame guidelin poll within day',\n",
              " 'bureaucrat among new covid case',\n",
              " 'train konkan ganpati festiv cr reiter yet receiv final go ahead state',\n",
              " 'covid claim maharashtra cop toll',\n",
              " 'maharashtra covid death highest day',\n",
              " 'industri leverag strong anti china sentiment say naik',\n",
              " 'minimis effect flood bihar begin use ai earli warn system',\n",
              " 'devendra fadnavi set play key role bjp campaign bihar poll',\n",
              " 'india nepal hold talk versight mechan aug mea',\n",
              " 'independ day celebr gujarat govt felicit covid warrior today',\n",
              " 'maharashtra state roll app assist women face domest violenc pandem',\n",
              " 'women forc steadi slow step',\n",
              " 'girl rape kill villag eye goug tongu slit cop',\n",
              " 'dairi farmer unrest turn polit battl turf raju shetti sadabhau khot',\n",
              " 'fter covid want travel nice place rest day',\n",
              " 'mumbai stab time outsid mosqu businessman die',\n",
              " 'chandrababu naidu write modi accus jagan tap phone oppn leader',\n",
              " 'rjd warm shyam rajak omecom jd u call',\n",
              " 'nepal cooper flood control bihar offici hous panel',\n",
              " 'hp student connect onlin teach find survey',\n",
              " 'ed book chines nation crore hawala racket',\n",
              " 'pm modi day turban gift farmer tapi district',\n",
              " 'cisf set take secur statu uniti',\n",
              " 'nepal india hold high level talk amidst border row',\n",
              " 'kerala win win w lotteri today result first prize rs lakh',\n",
              " 'j k two milit elimin encount secur personnel kill baramulla attack',\n",
              " 'fire th floor parliament annex build engin spot',\n",
              " 'work rajasthan hc suspend staff test posit',\n",
              " 'becom landown gairsain uttarakhand cm rawat',\n",
              " 'j k two held commun social media clip',\n",
              " 'cultiv good habit win war covid say gujarat cm',\n",
              " 'gujarat paatil visit saurashtra aug',\n",
              " 'violenc erupt panchayat meet pratapgarh kill',\n",
              " 'former cricket uttar pradesh minist chetan chauhan die covid',\n",
              " 'kafeel khan detent nsa extend month',\n",
              " 'india coronaviru updat august recoveri rate devote throng vaishno devi shrine',\n",
              " 'global coronaviru updat august germani defend call spain viru isk area',\n",
              " 'project ganget dolphin asiat lion launch soon pm modi',\n",
              " 'pranab mukherje daughter e never miss year hoist tricolour',\n",
              " 'sever may endur',\n",
              " 'tribut struggl independ undivid punjab',\n",
              " 'gehlot win trust vote essag forc tri toppl govt',\n",
              " 'new era normalci begun due aug chang say j k l g',\n",
              " 'lac crisi india envoy hold talk china apex militari bodi',\n",
              " 'j k anoth milit attack two policemen kill injur',\n",
              " 'vadodara municip commission among six ia offic transfer',\n",
              " 'malappuram sp district collector led kozhikod crash rescu op test covid posit',\n",
              " 'us warn indian firm sell unapprov drug covid ure',\n",
              " 'pranab mukherje health remain critic still ventil support hospit',\n",
              " 'sc hold prashant bhushan guilti contempt tweet cji judiciari',\n",
              " 'j k two cop kill one injur milit attack polic parti nowgam',\n",
              " 'reconsid cap rate covid treatment ima state govt',\n",
              " 'centr hold meet nscn im interlocutor absent',\n",
              " 'bihar poll like held schedul',\n",
              " 'rajasthan hc hear sc refus pass interim order bjp mla plea',\n",
              " 'nep make mainstream educ avail prakash javadekar',\n",
              " 'manufactur assembl supercomput india nation mission enter phase',\n",
              " 'india scoff china new excus ladakh stand cite reason',\n",
              " 'lake sediment studi give clue glacier health indu valley civilis',\n",
              " 'ossibl sabotag rule maharashtra minist power outag',\n",
              " 'news updat hindustan time month dalit teenag rape minor rape rel hathra latest news',\n",
              " 'year old dalit girl end life ape polic naction bundelkhand',\n",
              " 'ayush ministri launch raw drug repositori medicin plant cultiv',\n",
              " 'lack day black decis mehbooba mufti tweet messag releas',\n",
              " 'year old allegedli rape hathra month gang rape dalit woman',\n",
              " 'live india covid talli cross million mark new case',\n",
              " 'assam shut madrassa sanskrit school',\n",
              " 'live india case per million among lowest say health ministri',\n",
              " 'student goe back rape charg court',\n",
              " 'india china agre continu talk resolv border tension',\n",
              " 'tanishq drop ad onlin troll',\n",
              " 'human right excus defi law land centr amnesti',\n",
              " 'delhi high court today ask north delhi municip corpor ndmc disburs pend salari municip teacher observ employe depriv joy diwali festiv',\n",
              " 'union financ minist nirmala sitharaman today target congress parti chief sonia gandhi advic parti rule state bypass farm law brought centr legisl measur said opposit parti lok sabha manifesto promis agricultur produc market committe act repeal',\n",
              " 'bjp veteran lk advani murli manohar joshi present court uttar pradesh announc judgment babri mosqu case tomorrow',\n",
              " 'model youtub pose journalist arrest mumbai polic tuesday allegedli post abus content women social media',\n",
              " 'west bengal governor jagdeep dhankhar launch attack chief minist mamata banerje tuesday situat state lack respons side despit seek inform law order situat state',\n",
              " 'suprem court tuesday dismiss chhattisgarh govern plea judici commiss refus examin addit wit jheeram ghati naxal attack kill peopl includ leader state congress unit',\n",
              " 'union financ minist nirmala sitharaman today target congress parti chief sonia gandhi advic parti rule state bypass farm law brought centr legisl measur said opposit parti lok sabha manifesto promis agricultur produc market committe act repeal titl',\n",
              " 'tmc inner conflict youth secretari abhishek banerje meet hooghli leader',\n",
              " ...]"
            ]
          },
          "metadata": {},
          "execution_count": 26
        }
      ]
    },
    {
      "cell_type": "code",
      "source": [
        "#bag of words model\n",
        "\n",
        "from sklearn.feature_extraction.text import CountVectorizer\n",
        "cv = CountVectorizer()\n",
        "x = cv.fit_transform(corpus).toarray()\n",
        "print(x.shape)\n",
        "print(x)"
      ],
      "metadata": {
        "id": "rZaAVf7Joz2S",
        "colab": {
          "base_uri": "https://localhost:8080/"
        },
        "outputId": "b9b7cda8-7aab-46d6-876b-463c7bb3808c"
      },
      "execution_count": 27,
      "outputs": [
        {
          "output_type": "stream",
          "name": "stdout",
          "text": [
            "(27197, 14337)\n",
            "[[0 0 0 ... 0 0 0]\n",
            " [0 0 0 ... 0 0 0]\n",
            " [0 0 0 ... 0 0 0]\n",
            " ...\n",
            " [0 0 0 ... 0 0 0]\n",
            " [0 0 0 ... 0 0 0]\n",
            " [0 0 0 ... 0 0 0]]\n"
          ]
        }
      ]
    },
    {
      "cell_type": "code",
      "source": [
        "x[0]"
      ],
      "metadata": {
        "id": "fVFeMArIp73t",
        "colab": {
          "base_uri": "https://localhost:8080/"
        },
        "outputId": "40886366-81e7-4294-86c8-cf4a09e6379f"
      },
      "execution_count": 28,
      "outputs": [
        {
          "output_type": "execute_result",
          "data": {
            "text/plain": [
              "array([0, 0, 0, ..., 0, 0, 0])"
            ]
          },
          "metadata": {},
          "execution_count": 28
        }
      ]
    },
    {
      "cell_type": "code",
      "source": [
        "y = dataset['Label']\n",
        "print(y.shape)\n",
        "x.shape"
      ],
      "metadata": {
        "id": "ktvAfD_SqAI3",
        "colab": {
          "base_uri": "https://localhost:8080/"
        },
        "outputId": "c056d6de-3428-4613-8d74-65e98a399bfc"
      },
      "execution_count": 29,
      "outputs": [
        {
          "output_type": "stream",
          "name": "stdout",
          "text": [
            "(27197,)\n"
          ]
        },
        {
          "output_type": "execute_result",
          "data": {
            "text/plain": [
              "(27197, 14337)"
            ]
          },
          "metadata": {},
          "execution_count": 29
        }
      ]
    },
    {
      "cell_type": "code",
      "source": [
        "# from sklearn.model_selection import train_test_split\n",
        "# x_train,x_test,y_train,y_test=train_test_split(dataset['Statement'],dataset['Label'],stratify=dataset['Label'])"
      ],
      "metadata": {
        "id": "bsrg4SBwEi3k"
      },
      "execution_count": 30,
      "outputs": []
    },
    {
      "cell_type": "code",
      "source": [
        "from sklearn.model_selection import train_test_split\n",
        "X_train,X_test,Y_train,Y_test=train_test_split(x,y,test_size=0.33,random_state=42)\n"
      ],
      "metadata": {
        "id": "xZH4Ih90i2Br"
      },
      "execution_count": 31,
      "outputs": []
    },
    {
      "cell_type": "code",
      "source": [
        "X_test[0]"
      ],
      "metadata": {
        "id": "H2KUjeeoulEy",
        "colab": {
          "base_uri": "https://localhost:8080/"
        },
        "outputId": "ebce1aa2-c784-467b-c217-4a05c7909195"
      },
      "execution_count": 32,
      "outputs": [
        {
          "output_type": "execute_result",
          "data": {
            "text/plain": [
              "array([0, 0, 0, ..., 0, 0, 0])"
            ]
          },
          "metadata": {},
          "execution_count": 32
        }
      ]
    },
    {
      "cell_type": "code",
      "source": [
        "X_train.shape"
      ],
      "metadata": {
        "id": "0WTSEXUcj_8d",
        "colab": {
          "base_uri": "https://localhost:8080/"
        },
        "outputId": "be39d8f8-8cb6-4c15-ad8e-71138b8f0254"
      },
      "execution_count": 33,
      "outputs": [
        {
          "output_type": "execute_result",
          "data": {
            "text/plain": [
              "(18221, 14337)"
            ]
          },
          "metadata": {},
          "execution_count": 33
        }
      ]
    },
    {
      "cell_type": "code",
      "source": [
        "X_test.shape"
      ],
      "metadata": {
        "id": "V3oXeRlNkfoN",
        "colab": {
          "base_uri": "https://localhost:8080/"
        },
        "outputId": "2a19442b-ea5a-4924-a05b-7dbd9e51e597"
      },
      "execution_count": 34,
      "outputs": [
        {
          "output_type": "execute_result",
          "data": {
            "text/plain": [
              "(8976, 14337)"
            ]
          },
          "metadata": {},
          "execution_count": 34
        }
      ]
    },
    {
      "cell_type": "code",
      "source": [
        "Y_train"
      ],
      "metadata": {
        "id": "PIsWO1sIkiN9",
        "colab": {
          "base_uri": "https://localhost:8080/"
        },
        "outputId": "a386d50a-0b7d-4ec2-b585-812b4ef13ab3"
      },
      "execution_count": 35,
      "outputs": [
        {
          "output_type": "execute_result",
          "data": {
            "text/plain": [
              "1836     TRUE\n",
              "22512    Fake\n",
              "26700    Fake\n",
              "9355     TRUE\n",
              "26200    Fake\n",
              "         ... \n",
              "21575    Fake\n",
              "5390     TRUE\n",
              "860      TRUE\n",
              "15795    TRUE\n",
              "23654    Fake\n",
              "Name: Label, Length: 18221, dtype: object"
            ]
          },
          "metadata": {},
          "execution_count": 35
        }
      ]
    },
    {
      "cell_type": "code",
      "source": [
        "Y_test"
      ],
      "metadata": {
        "id": "rWh-oPFOkknA",
        "colab": {
          "base_uri": "https://localhost:8080/"
        },
        "outputId": "46953c11-dd1b-4795-ed0e-8202de93d732"
      },
      "execution_count": 36,
      "outputs": [
        {
          "output_type": "execute_result",
          "data": {
            "text/plain": [
              "8922     TRUE\n",
              "25533    Fake\n",
              "21344    Fake\n",
              "10299    TRUE\n",
              "13492    TRUE\n",
              "         ... \n",
              "4601     TRUE\n",
              "13506    TRUE\n",
              "21555    Fake\n",
              "22702    Fake\n",
              "8268     TRUE\n",
              "Name: Label, Length: 8976, dtype: object"
            ]
          },
          "metadata": {},
          "execution_count": 36
        }
      ]
    },
    {
      "cell_type": "code",
      "source": [
        "from sklearn.naive_bayes import MultinomialNB\n",
        "classifier=MultinomialNB()\n",
        "classifier.fit(X_train,Y_train)"
      ],
      "metadata": {
        "id": "TO-bemI4kmMG",
        "colab": {
          "base_uri": "https://localhost:8080/"
        },
        "outputId": "e701f2aa-4c78-4afa-f71f-9273f277ae44"
      },
      "execution_count": 37,
      "outputs": [
        {
          "output_type": "execute_result",
          "data": {
            "text/plain": [
              "MultinomialNB()"
            ]
          },
          "metadata": {},
          "execution_count": 37
        }
      ]
    },
    {
      "cell_type": "code",
      "source": [
        "X_test"
      ],
      "metadata": {
        "id": "DjskWUWSucEh",
        "colab": {
          "base_uri": "https://localhost:8080/"
        },
        "outputId": "5e83f3df-b0c2-489a-cb07-7c34a54af720"
      },
      "execution_count": 38,
      "outputs": [
        {
          "output_type": "execute_result",
          "data": {
            "text/plain": [
              "array([[0, 0, 0, ..., 0, 0, 0],\n",
              "       [0, 0, 0, ..., 0, 0, 0],\n",
              "       [0, 0, 0, ..., 0, 0, 0],\n",
              "       ...,\n",
              "       [0, 0, 0, ..., 0, 0, 0],\n",
              "       [0, 0, 0, ..., 0, 0, 0],\n",
              "       [0, 0, 0, ..., 0, 0, 0]])"
            ]
          },
          "metadata": {},
          "execution_count": 38
        }
      ]
    },
    {
      "cell_type": "code",
      "source": [
        "y_pred=classifier.predict(X_test)\n",
        "print(y_pred)"
      ],
      "metadata": {
        "id": "yURH5l7jk34D",
        "colab": {
          "base_uri": "https://localhost:8080/"
        },
        "outputId": "03ba86c2-bfca-4f95-806a-20c9ba10c346"
      },
      "execution_count": 39,
      "outputs": [
        {
          "output_type": "stream",
          "name": "stdout",
          "text": [
            "['TRUE' 'Fake' 'TRUE' ... 'Fake' 'TRUE' 'TRUE']\n"
          ]
        }
      ]
    },
    {
      "cell_type": "code",
      "source": [
        "from sklearn.metrics  import confusion_matrix,accuracy_score\n",
        "cm=confusion_matrix(Y_test,y_pred)\n",
        "sns.heatmap(cm,annot=True)\n",
        "print(cm)"
      ],
      "metadata": {
        "id": "8IbCMm1HlSha",
        "colab": {
          "base_uri": "https://localhost:8080/",
          "height": 334
        },
        "outputId": "35401c75-7916-48a1-eee7-3b650179d9bd"
      },
      "execution_count": 40,
      "outputs": [
        {
          "output_type": "stream",
          "name": "stdout",
          "text": [
            "[[2142    0  312    0]\n",
            " [   0    0    0    1]\n",
            " [ 255    0 6266    0]\n",
            " [   0    0    0    0]]\n"
          ]
        },
        {
          "output_type": "display_data",
          "data": {
            "text/plain": [
              "<Figure size 432x288 with 2 Axes>"
            ],
            "image/png": "[encoded data removed]"
          },
          "metadata": {
            "needs_background": "light"
          }
        }
      ]
    },
    {
      "cell_type": "code",
      "source": [
        "print(accuracy_score(Y_test,y_pred))"
      ],
      "metadata": {
        "id": "0m7Ubj0Zljc-",
        "colab": {
          "base_uri": "https://localhost:8080/"
        },
        "outputId": "a7aa6ce4-4943-4abf-8cb2-9dd27a1bd3ae"
      },
      "execution_count": 41,
      "outputs": [
        {
          "output_type": "stream",
          "name": "stdout",
          "text": [
            "0.9367201426024956\n"
          ]
        }
      ]
    },
    {
      "cell_type": "markdown",
      "source": [
        "## Testing for examples"
      ],
      "metadata": {
        "id": "yzc6VfN5mXCA"
      }
    },
    {
      "cell_type": "code",
      "source": [
        "#from sklearn import feature_extraction\n",
        "from sklearn.feature_extraction.text import TfidfVectorizer\n"
      ],
      "metadata": {
        "id": "tAtWQ7S1nlnn"
      },
      "execution_count": 42,
      "outputs": []
    },
    {
      "cell_type": "code",
      "source": [
        "# test_input = [\"Mumbai outage: After major blackout, power supply restored in most areas; Thackeray orders probe\"]\n",
        "\n",
        "# test_input_features = feature_extraction.transform(test_input)\n",
        "\n",
        "# prediction = classifier.predict(test_input)\n",
        "# print(prediction) \n"
      ],
      "metadata": {
        "id": "MUVUz9TLmZx8"
      },
      "execution_count": 43,
      "outputs": []
    },
    {
      "cell_type": "code",
      "source": [
        "import sklearn\n",
        "test_new = [X_test[1000]]\n",
        "prediction = classifier.predict(test_new)\n",
        "\n",
        "print(prediction)\n",
        "\n"
      ],
      "metadata": {
        "id": "vPnACiYfoCZf",
        "colab": {
          "base_uri": "https://localhost:8080/"
        },
        "outputId": "a002b8dc-95b8-4a72-a97e-ba2df5d2278b"
      },
      "execution_count": 46,
      "outputs": [
        {
          "output_type": "stream",
          "name": "stdout",
          "text": [
            "['TRUE']\n"
          ]
        }
      ]
    }
  ]
}